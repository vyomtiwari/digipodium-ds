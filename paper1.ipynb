{
 "cells": [
  {
   "cell_type": "code",
   "execution_count": 3,
   "metadata": {},
   "outputs": [
    {
     "data": {
      "text/plain": [
       "False"
      ]
     },
     "execution_count": 3,
     "metadata": {},
     "output_type": "execute_result"
    }
   ],
   "source": [
    "# q1\n",
    "False"
   ]
  },
  {
   "cell_type": "code",
   "execution_count": 5,
   "metadata": {},
   "outputs": [
    {
     "name": "stdout",
     "output_type": "stream",
     "text": [
      "We have 3 fruits\n"
     ]
    }
   ],
   "source": [
    "#q2\n",
    "fruits = ['banana','apple','pear'] \n",
    "if fruits:\n",
    "    print(f\"We have {len(fruits)} fruits\")"
   ]
  },
  {
   "cell_type": "code",
   "execution_count": 8,
   "metadata": {},
   "outputs": [],
   "source": [
    "#q3\n",
    "fruitstring = \"banana,pear,apple\"\n",
    "fruitlist = fruitstring.split(',')\n"
   ]
  },
  {
   "cell_type": "code",
   "execution_count": 10,
   "metadata": {},
   "outputs": [
    {
     "name": "stdout",
     "output_type": "stream",
     "text": [
      "['A', 'computer', 'would', 'deserve', 'to', 'be', 'called', 'intelligent', 'if', 'it', 'could', 'deceive', 'a', 'human', 'into', 'believing', 'that', 'it', 'was', 'human']\n"
     ]
    }
   ],
   "source": [
    "# q4\n",
    "quotestring= \"A computer would deserve to be called intelligent if it could deceive a human into believing that it was human\"\n",
    "quotelist = quotestring.split(' ')\n",
    "print(quotelist)"
   ]
  },
  {
   "cell_type": "code",
   "execution_count": 16,
   "metadata": {},
   "outputs": [
    {
     "name": "stdout",
     "output_type": "stream",
     "text": [
      "True\n"
     ]
    }
   ],
   "source": [
    "# q5\n",
    "numberoftwoletterwords = 0 \n",
    "for word in quotelist:\n",
    "    if len(word) == 2:\n",
    "        numberoftwoletterwords += 1\n",
    "print(numberoftwoletterwords == 5) # This will be True i"
   ]
  },
  {
   "cell_type": "code",
   "execution_count": 62,
   "metadata": {},
   "outputs": [
    {
     "name": "stdout",
     "output_type": "stream",
     "text": [
      "banana,pear,apple\n"
     ]
    }
   ],
   "source": [
    "#q6\n",
    "fruitlist = ['banana','pear','apple']\n",
    "delimiter = \",\"\n",
    "fruitstring = delimiter.join(fruitlist)\n",
    "print(fruitstring)"
   ]
  },
  {
   "cell_type": "code",
   "execution_count": 22,
   "metadata": {},
   "outputs": [
    {
     "name": "stdout",
     "output_type": "stream",
     "text": [
      "Security found at position 32\n"
     ]
    }
   ],
   "source": [
    "#q7\n",
    "text = \"We spend our time searching for security and hate it when we get it\"\n",
    "found = text.find('security')\n",
    "if found == -1:\n",
    "    print(\"No security found! :(\")\n",
    "else:\n",
    "    print(\"Security found at position\",found)"
   ]
  },
  {
   "cell_type": "code",
   "execution_count": 27,
   "metadata": {},
   "outputs": [
    {
     "name": "stdout",
     "output_type": "stream",
     "text": [
      "You can compare apples and apples\n"
     ]
    }
   ],
   "source": [
    "text = \"You can not compare apples and pears\"\n",
    "text = text.replace(\"pears\", \"apples\")\n",
    "text = text.replace(\"not \", \"\")\n",
    "print(text)"
   ]
  },
  {
   "cell_type": "code",
   "execution_count": 29,
   "metadata": {},
   "outputs": [
    {
     "name": "stdout",
     "output_type": "stream",
     "text": [
      "Rsrch hs shwn tht t s ftn stll pssbl t ndrstnd txt vn f ll vwls  r rmvd\n"
     ]
    }
   ],
   "source": [
    "#Q9\n",
    "text = \"Research has shown that it is often still possible to understand text even if all vowels a re removed\"\n",
    "for vowel in (\"a\",\"i\",\"e\",\"o\",\"u\"):\n",
    "    text = text.replace(vowel,\"\")\n",
    "print(text)"
   ]
  },
  {
   "cell_type": "code",
   "execution_count": 31,
   "metadata": {},
   "outputs": [
    {
     "name": "stdout",
     "output_type": "stream",
     "text": [
      "stripme!\n"
     ]
    }
   ],
   "source": [
    "#Q10\n",
    "s=\" stripme! \" \n",
    "print(s.strip())"
   ]
  },
  {
   "cell_type": "code",
   "execution_count": 33,
   "metadata": {},
   "outputs": [
    {
     "name": "stdout",
     "output_type": "stream",
     "text": [
      "folgert karsdorp and maarten van gompel\n",
      "FOLGERT KARSDORP AND MAARTEN VAN GOMPEL\n"
     ]
    }
   ],
   "source": [
    "#Q11\n",
    "teachers = \"Folgert Karsdorp and Maarten van Gompel\"\n",
    "print(teachers.lower())\n",
    "print(teachers.upper())"
   ]
  },
  {
   "cell_type": "code",
   "execution_count": 37,
   "metadata": {},
   "outputs": [
    {
     "name": "stdout",
     "output_type": "stream",
     "text": [
      "5\n"
     ]
    }
   ],
   "source": [
    "#Q12\n",
    "words = [\"BlA\", \"plop\", \"blA\", \"Bla\", \"PLoP\", \"bLa\", \"pLop\", \"BLA\"] \n",
    "count = 0\n",
    "for word in words:\n",
    "    if word.lower() == \"bla\":\n",
    "        count += 1\n",
    "print(count)"
   ]
  },
  {
   "cell_type": "code",
   "execution_count": 38,
   "metadata": {},
   "outputs": [
    {
     "name": "stdout",
     "output_type": "stream",
     "text": [
      "banana\n"
     ]
    }
   ],
   "source": [
    "#13\n",
    "fruittuple = ('banana','apple','pear')\n",
    "print(fruittuple[0])"
   ]
  },
  {
   "cell_type": "code",
   "execution_count": 40,
   "metadata": {},
   "outputs": [
    {
     "name": "stdout",
     "output_type": "stream",
     "text": [
      "3\n"
     ]
    }
   ],
   "source": [
    "#Q14\n",
    "fruitset = {'banana', 'apple', 'pear'}\n",
    "fruitset.add('banana') # will have no effect, banana already exists fruitset.add('orange')\n",
    "print(len(fruitset))"
   ]
  },
  {
   "cell_type": "code",
   "execution_count": 42,
   "metadata": {},
   "outputs": [
    {
     "name": "stdout",
     "output_type": "stream",
     "text": [
      "1\n",
      "5\n",
      "15\n"
     ]
    }
   ],
   "source": [
    "numbers = [1, 2, 3, 4, 5] \n",
    "print(min(numbers)) \n",
    "print(max(numbers))\n",
    "print(sum(numbers))"
   ]
  },
  {
   "cell_type": "code",
   "execution_count": 44,
   "metadata": {},
   "outputs": [
    {
     "name": "stdout",
     "output_type": "stream",
     "text": [
      "[2, 4, 6, 8, 10]\n"
     ]
    }
   ],
   "source": [
    "\n",
    "#Q16\n",
    "numbers = [1, 2, 3, 4, 5 ]\n",
    "doublenumbers = [number*2 for number in numbers] \n",
    "print(doublenumbers)"
   ]
  },
  {
   "cell_type": "code",
   "execution_count": 47,
   "metadata": {},
   "outputs": [
    {
     "name": "stdout",
     "output_type": "stream",
     "text": [
      "[3, 4, 5, 6, 7]\n"
     ]
    }
   ],
   "source": [
    "#Q17\n",
    "numbers = [1, 2, 3, 4, 5]\n",
    "numbers = [ x + 2 for x in numbers]\n",
    "print(numbers)"
   ]
  },
  {
   "cell_type": "code",
   "execution_count": 50,
   "metadata": {},
   "outputs": [
    {
     "name": "stdout",
     "output_type": "stream",
     "text": [
      "58\n",
      "94\n",
      "69\n",
      "66\n",
      "5\n",
      "67\n",
      "2\n",
      "96\n",
      "45\n",
      "93\n",
      "3\n",
      "10\n",
      "46\n",
      "9\n",
      "77\n",
      "22\n",
      "49\n",
      "32\n",
      "35\n",
      "75\n",
      "95\n",
      "56\n",
      "3\n",
      "23\n",
      "43\n",
      "29\n",
      "75\n",
      "4\n",
      "44\n",
      "83\n",
      "27\n",
      "8\n",
      "71\n",
      "73\n",
      "47\n",
      "83\n",
      "59\n",
      "47\n",
      "6\n",
      "13\n",
      "28\n",
      "4\n",
      "76\n",
      "76\n",
      "69\n",
      "62\n",
      "79\n",
      "13\n",
      "12\n",
      "41\n",
      "85\n",
      "40\n",
      "6\n",
      "99\n",
      "76\n",
      "99\n",
      "69\n",
      "39\n",
      "69\n",
      "60\n",
      "41\n",
      "38\n",
      "53\n",
      "84\n",
      "7\n",
      "77\n",
      "83\n",
      "80\n",
      "35\n",
      "89\n",
      "51\n",
      "82\n",
      "22\n",
      "15\n",
      "17\n",
      "95\n",
      "38\n",
      "81\n",
      "86\n",
      "26\n",
      "24\n",
      "5\n",
      "71\n",
      "99\n",
      "48\n",
      "97\n",
      "94\n",
      "39\n",
      "66\n",
      "57\n",
      "78\n",
      "89\n",
      "36\n",
      "31\n",
      "19\n",
      "31\n",
      "100\n",
      "83\n",
      "2\n",
      "92\n",
      "39\n",
      "50\n",
      "53\n",
      "88\n",
      "4\n",
      "89\n",
      "60\n",
      "10\n",
      "80\n",
      "80\n",
      "78\n",
      "14\n",
      "7\n",
      "1\n",
      "97\n",
      "79\n",
      "75\n",
      "48\n",
      "49\n",
      "63\n",
      "54\n",
      "68\n",
      "48\n",
      "26\n",
      "51\n",
      "68\n",
      "26\n",
      "22\n",
      "10\n",
      "96\n",
      "2\n",
      "76\n",
      "22\n",
      "43\n",
      "84\n",
      "19\n",
      "16\n",
      "81\n",
      "9\n",
      "49\n",
      "28\n",
      "46\n",
      "95\n",
      "33\n",
      "11\n",
      "53\n",
      "86\n",
      "53\n",
      "41\n",
      "21\n",
      "45\n",
      "64\n",
      "42\n"
     ]
    }
   ],
   "source": [
    "#Q18\n",
    "import random\n",
    "number = 0\n",
    "while number != 42:\n",
    "    number = random.randint(0, 100)\n",
    "    print(number)"
   ]
  },
  {
   "cell_type": "code",
   "execution_count": 80,
   "metadata": {},
   "outputs": [
    {
     "name": "stdout",
     "output_type": "stream",
     "text": [
      "\n"
     ]
    }
   ],
   "source": [
    "#Q19\n",
    "open(\"austen-emma-excerpt.txt\",\"a\")\n",
    "f = open(\"austen-emma-excerpt.txt\",\"r\")\n",
    "text = f.read()\n",
    "f.close\n",
    "print(text)"
   ]
  },
  {
   "cell_type": "code",
   "execution_count": 82,
   "metadata": {},
   "outputs": [],
   "source": [
    "#Q20\n",
    "open('testouput.txt',\"a\")\n",
    "f = open('testouput.txt',\"w\")\n",
    "f.write(\"Hello world!\")\n",
    "f.close()"
   ]
  }
 ],
 "metadata": {
  "kernelspec": {
   "display_name": "base",
   "language": "python",
   "name": "python3"
  },
  "language_info": {
   "codemirror_mode": {
    "name": "ipython",
    "version": 3
   },
   "file_extension": ".py",
   "mimetype": "text/x-python",
   "name": "python",
   "nbconvert_exporter": "python",
   "pygments_lexer": "ipython3",
   "version": "3.10.10"
  },
  "orig_nbformat": 4
 },
 "nbformat": 4,
 "nbformat_minor": 2
}
