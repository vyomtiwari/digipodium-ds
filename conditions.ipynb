{
 "cells": [
  {
   "attachments": {},
   "cell_type": "markdown",
   "metadata": {},
   "source": [
    "## true values \n",
    "  - True\n",
    "  - any non zero number\n",
    "  - any non empty string\n",
    "  - any non empty data structure\n",
    "## fasle values\n",
    "  - False\n",
    "  - 0\n",
    "  - empty string\n",
    "  - empty data structure\n",
    "## a python block of code\n",
    "  - indentation\n",
    "  - 4 spaces = 1 tab = 1 indentation\n",
    "  - "
   ]
  },
  {
   "cell_type": "code",
   "execution_count": 1,
   "metadata": {},
   "outputs": [
    {
     "name": "stdout",
     "output_type": "stream",
     "text": [
      "x is larger than 10\n",
      "x is bigger than 50\n",
      "the end\n"
     ]
    }
   ],
   "source": [
    "# example\n",
    "x = int(input(\"enter the number\"))\n",
    "if x > 10 :\n",
    "    print(\"x is larger than 10\")\n",
    "if x > 50 :\n",
    "    print(\"x is bigger than 50\")\n",
    "if x <= 10:\n",
    "    print(\"x is smaller than or equal to 10\")\n",
    "if x > 100:\n",
    "    print(\"x is bigger than 100\")\n",
    "print(\"the end\")"
   ]
  },
  {
   "cell_type": "code",
   "execution_count": 4,
   "metadata": {},
   "outputs": [
    {
     "name": "stdout",
     "output_type": "stream",
     "text": [
      "odd\n"
     ]
    }
   ],
   "source": [
    "# even or odd\n",
    "n = int(input(\"enter the number\"))\n",
    "if n%2 == 0:\n",
    "    print(\"even\")\n",
    "else:\n",
    "    print(\"odd\")\n",
    "    "
   ]
  },
  {
   "cell_type": "code",
   "execution_count": 5,
   "metadata": {},
   "outputs": [
    {
     "name": "stdout",
     "output_type": "stream",
     "text": [
      "odd\n"
     ]
    }
   ],
   "source": [
    "#ternary\n",
    "print(\"even\" if n%2==0 else \"odd\")"
   ]
  },
  {
   "cell_type": "code",
   "execution_count": 6,
   "metadata": {},
   "outputs": [
    {
     "name": "stdout",
     "output_type": "stream",
     "text": [
      "c is the biggest number c = 30\n"
     ]
    }
   ],
   "source": [
    "## multiple condition using elif\n",
    "a, b, c = 10, 20, 30\n",
    "if(a>b and a >c):\n",
    "    print(\"a is the biggest number a = \"+a)\n",
    "elif(b>c):\n",
    "    print(\"b is the biggest number b =\",b)\n",
    "else:\n",
    "    print(\"c is the biggest number c =\",c)"
   ]
  },
  {
   "cell_type": "code",
   "execution_count": 11,
   "metadata": {},
   "outputs": [
    {
     "name": "stdout",
     "output_type": "stream",
     "text": [
      "❌ no no no no.\n"
     ]
    }
   ],
   "source": [
    "username = input('enter your username: ')\n",
    "pwd = input('enter your password: ')\n",
    "if len(username) < 3:\n",
    "    print(\"❌ chotta hai username kamse kam 3😉\")\n",
    "elif len(pwd) < 8:\n",
    "    print(\"❌ chotta hai🤭\")\n",
    "elif not username.isalpha():\n",
    "    print(\"❌ no no no no.\")\n",
    "else: \n",
    "    print('✅ shabash beta')\n",
    "# so isalpha returns true if all are alpha \n",
    "# isnumeric returns true if all are numeric \n",
    "# so if we use isnumeric() than it will return false for if there are numericals or "
   ]
  },
  {
   "attachments": {},
   "cell_type": "markdown",
   "metadata": {},
   "source": [
    "#### match case (python 3.10) it is python's switch case\n",
    "its used for checking *multiple condition* of a single variable\n",
    "no break needed no default needed\n",
    "default is writen using case _:\n",
    "```shell\n",
    "\n",
    "match variable:\n",
    "    case value1:\n",
    "        statement 1\n",
    "        statement 2\n",
    "        ...\n",
    "        statement n\n",
    "    .....\n",
    "    case valuen:\n",
    "         statement 1\n",
    "        statement 2\n",
    "        ...\n",
    "        statement n\n",
    "    case _:\n",
    "        default statment"
   ]
  },
  {
   "cell_type": "code",
   "execution_count": 14,
   "metadata": {},
   "outputs": [
    {
     "name": "stdout",
     "output_type": "stream",
     "text": [
      "its holiday\n"
     ]
    }
   ],
   "source": [
    "day = input('enter a day')\n",
    "match day:\n",
    "    case 'sunday':\n",
    "        print('its sun')\n",
    "    case 'saturday':\n",
    "        print('its sat')\n",
    "    case 'friday':\n",
    "        print('its fri')\n",
    "    #multiple values\n",
    "    case 'thursday' | 'holiday':\n",
    "        print('its holiday')\n",
    "    case 'wednesday':\n",
    "        print('its wed')\n",
    "    case 'tuesday':\n",
    "        print('its tue')\n",
    "    case 'monday':\n",
    "        print('its mon')\n",
    "    case _:\n",
    "        print(\"invalid\")\n"
   ]
  },
  {
   "cell_type": "code",
   "execution_count": null,
   "metadata": {},
   "outputs": [],
   "source": []
  }
 ],
 "metadata": {
  "kernelspec": {
   "display_name": "base",
   "language": "python",
   "name": "python3"
  },
  "language_info": {
   "codemirror_mode": {
    "name": "ipython",
    "version": 3
   },
   "file_extension": ".py",
   "mimetype": "text/x-python",
   "name": "python",
   "nbconvert_exporter": "python",
   "pygments_lexer": "ipython3",
   "version": "3.10.10"
  },
  "orig_nbformat": 4
 },
 "nbformat": 4,
 "nbformat_minor": 2
}
