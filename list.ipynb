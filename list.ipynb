{
 "cells": [
  {
   "attachments": {},
   "cell_type": "markdown",
   "metadata": {},
   "source": [
    "## data-structure\n",
    "- list\n",
    "    - indexed, ordered, mutable, '[]'\n",
    "- tuple\n",
    "    - indexed, ordered, *inmutable, '()'\n",
    "- set\n",
    "    - unindexed, **unordered**, mutable, **no-duplicate**, '{}'\n",
    "- dictionary\n",
    "    - unindexed, **key-value pair**, mutable, '{}'"
   ]
  },
  {
   "cell_type": "code",
   "execution_count": null,
   "metadata": {},
   "outputs": [],
   "source": [
    "#duplication in list\n",
    "a = [10] * 25\n",
    "print(a)"
   ]
  },
  {
   "cell_type": "code",
   "execution_count": null,
   "metadata": {},
   "outputs": [],
   "source": [
    "for i in range(10):\n",
    "    a.append(int(input(\"enter the number\")))"
   ]
  },
  {
   "cell_type": "code",
   "execution_count": null,
   "metadata": {},
   "outputs": [],
   "source": [
    "print(a)"
   ]
  },
  {
   "cell_type": "code",
   "execution_count": null,
   "metadata": {},
   "outputs": [],
   "source": [
    "print(a[1], a[5])\n",
    "print(a[:2])\n",
    "print(a[-3:])\n",
    "print(a[::-1])"
   ]
  },
  {
   "cell_type": "code",
   "execution_count": null,
   "metadata": {},
   "outputs": [],
   "source": [
    "help(list)"
   ]
  },
  {
   "cell_type": "code",
   "execution_count": null,
   "metadata": {},
   "outputs": [],
   "source": [
    "print(help(list))"
   ]
  },
  {
   "attachments": {},
   "cell_type": "markdown",
   "metadata": {},
   "source": [
    "- list function\n",
    "    - adding\n",
    "        - append()  - add single item at the end\n",
    "        - insert() - insert single item at the given index\n",
    "        - extend() - merge a list to an existing list\n",
    "    - remove\n",
    "        - remove()  - remove a single entry by value\n",
    "        - pop() - remove single item by index\n",
    "        - clear() - remove all items\n",
    "    - utility\n",
    "        -  index() - find index of item by value\n",
    "        - count() - count repeated item\n",
    "        - sort() - sort items\n",
    "        - reverse() - reverse items\n",
    "        - copy() - copy list"
   ]
  },
  {
   "cell_type": "code",
   "execution_count": null,
   "metadata": {},
   "outputs": [],
   "source": [
    "books = [] #blank list\n",
    "books.append('the final Empire')\n",
    "books.append('psychology of money')\n",
    "books.append('well of ascension')\n",
    "books"
   ]
  },
  {
   "cell_type": "code",
   "execution_count": null,
   "metadata": {},
   "outputs": [],
   "source": [
    "books.insert(-1,\"harry porter and the goblet of fire\")\n",
    "books.insert(1, \"lord of the rings fellowship of the ring\")\n",
    "books"
   ]
  },
  {
   "cell_type": "code",
   "execution_count": null,
   "metadata": {},
   "outputs": [],
   "source": [
    "old_books = [\"A song of ice and fire\", \"the Jungle book\",\"pride and prejudice\", \"umbrella\"]"
   ]
  },
  {
   "cell_type": "code",
   "execution_count": null,
   "metadata": {},
   "outputs": [],
   "source": [
    "books.append(old_books)\n",
    "books\n",
    "# the oldbook list is added as a list to the last index of the list"
   ]
  },
  {
   "cell_type": "code",
   "execution_count": null,
   "metadata": {},
   "outputs": [],
   "source": [
    "books.extend(old_books)\n",
    "books"
   ]
  },
  {
   "cell_type": "code",
   "execution_count": null,
   "metadata": {},
   "outputs": [],
   "source": [
    "books.remove(\"the final Empire\") #removes the very first entry and it is case sensitive"
   ]
  },
  {
   "cell_type": "code",
   "execution_count": null,
   "metadata": {},
   "outputs": [],
   "source": [
    "books.remove(['A song of ice and fire',\n",
    "  'the Jungle book',\n",
    "  'pride and prejudice',\n",
    "  'umbrella'])\n",
    "books"
   ]
  },
  {
   "cell_type": "code",
   "execution_count": null,
   "metadata": {},
   "outputs": [],
   "source": [
    "books.pop(4) #fourt index element"
   ]
  },
  {
   "cell_type": "code",
   "execution_count": null,
   "metadata": {},
   "outputs": [],
   "source": [
    "books.pop()#removes the last element"
   ]
  },
  {
   "cell_type": "code",
   "execution_count": null,
   "metadata": {},
   "outputs": [],
   "source": [
    "books"
   ]
  },
  {
   "cell_type": "code",
   "execution_count": null,
   "metadata": {},
   "outputs": [],
   "source": [
    "books.clear() #same as the books = []\n",
    "books"
   ]
  },
  {
   "cell_type": "code",
   "execution_count": null,
   "metadata": {},
   "outputs": [],
   "source": [
    "movies = '''The Shawshank Redemption (1994)\n",
    "The Dark Knight (2008)\n",
    "Pulp Fiction (1994)\n",
    "Fight Club (1999)\n",
    "Inception (2010)\n",
    "The Lord of the Rings: The Return of the King (2003)\n",
    "Goodfellas (1990)\n",
    "The Matrix (1999)\n",
    "Schindler's List (1993)\n",
    "Forrest Gump (1994)\n",
    "The Godfather (1972)\n",
    "The Empire Strikes Back (1980)\n",
    "Casablanca (1942)\n",
    "Apocalypse Now (1979)\n",
    "Blade Runner (1982)\n",
    "The Shining (1980)\n",
    "Taxi Driver (1976)\n",
    "Rear Window (1954)\n",
    "The Silence of the Lambs (1991)\n",
    "Seven Samurai (1954)\n",
    "City of God (2002)\n",
    "Whiplash (2014)\n",
    "The Usual Suspects (1995)\n",
    "Gone with the Wind (1939)\n",
    "The Great Dictator (1940)\n",
    "Lawrence of Arabia (1962)\n",
    "12 Angry Men (1957)\n",
    "Amadeus (1984)\n",
    "The Green Mile (1999)\n",
    "Oldboy (2003)\n",
    "Eternal Sunshine of the Spotless Mind (2004)\n",
    "The Grand Budapest Hotel (2014)\n",
    "The Prestige (2006)\n",
    "Django Unchained (2012)\n",
    "The Social Network (2010)\n",
    "A Clockwork Orange (1971)\n",
    "The Princess Bride (1987)\n",
    "The Departed (2006)\n",
    "No Country for Old Men (2007)\n",
    "The Truman Show (1998)\n",
    "The Witch (2015)\n",
    "Amélie (2001)\n",
    "The Revenant (2015)\n",
    "The Bridge on the River Kwai (1957)\n",
    "The Lives of Others (2006)\n",
    "Good Will Hunting (1997)\n",
    "The Big Lebowski (1998)\n",
    "The Hurt Locker (2008)\n",
    "Boyhood (2014)\n",
    "The Apartment (1960)\n",
    "La La Land (2016)\n",
    "The Exorcist (1973)\n",
    "The Seventh Seal (1957)\n",
    "2001: A Space Odyssey (1968)\n",
    "Her (2013)\n",
    "The Breakfast Club (1985)\n",
    "The Lion King (1994)\n",
    "Gladiator (2000)\n",
    "A Clockwork Orange (1971)\n",
    "The Social Network (2010)\n",
    "The Princess Bride (1987)\n",
    "The Departed (2006)\n",
    "No Country for Old Men (2007)\n",
    "The Truman Show (1998)\n",
    "The Witch (2015)\n",
    "Amélie (2001)\n",
    "The Revenant (2015)\n",
    "The Bridge on the River Kwai (1957)\n",
    "The Lives of Others (2006)\n",
    "Good Will Hunting (1997)\n",
    "The Big Lebowski (1998)\n",
    "The Hurt Locker (2008)\n",
    "Boyhood (2014)\n",
    "The Apartment (1960)\n",
    "La La Land (2016)\n",
    "The Exorcist (1973)\n",
    "The Seventh Seal (1957)\n",
    "2001: A Space Odyssey (1968)\n",
    "Her (2013)\n",
    "The Breakfast Club (1985)\n",
    "The Lion King (1994)\n",
    "Gladiator (2000)\n",
    "A Clockwork Orange (1971)\n",
    "The Social Network (2010)\n",
    "The Princess Bride (1987)\n",
    "The Departed (2006)\n",
    "No Country for Old Men (2007)\n",
    "The Truman Show (1998)\n",
    "The Witch (2015)\n",
    "Amélie (2001)\n",
    "The Revenant (2015)\n",
    "The Bridge on the River Kwai (1957)\n",
    "The Lives of Others (2006)\n",
    "The Maltese Falcon (1941)\n",
    "Raiders of the Lost Ark (1981)\n",
    "Memento (2000)\n",
    "The Good, the Bad and the Ugly (1966)\n",
    "The Godfather: Part II (1974)\n",
    "The Sound of Music (1965)\n",
    "Jaws (1975)\n",
    "Toy Story (1995)\n",
    "Chinatown (1974)\n",
    "Raging Bull (1980)\n",
    "The Apartment (1960)\n",
    "Singin' in the Rain (1952)\n",
    "The Terminator (1984)\n",
    "The Wizard of Oz (1939)\n",
    "8 1/2 (1963)\n",
    "The Great Escape (1963)\n",
    "Monty Python and the Holy Grail (1975)\n",
    "The Graduate (1967)\n",
    "The Deer Hunter (1978)\n",
    "The Princess Bride (1987)\n",
    "Sholay (1975)\n",
    "Mughal-E-Azam (1960)\n",
    "Dilwale Dulhania Le Jayenge (1995)\n",
    "Mother India (1957)\n",
    "Kabhi Kabhie (1976)\n",
    "Lagaan: Once Upon a Time in India (2001)\n",
    "Pakeezah (1972)\n",
    "Deewaar (1975)\n",
    "Guide (1965)\n",
    "Pyaasa (1957)\n",
    "Anand (1971)\n",
    "Zanjeer (1973)\n",
    "Dil Chahta Hai (2001)\n",
    "Taare Zameen Par (2007)\n",
    "Rang De Basanti (2006)\n",
    "Mera Naam Joker (1970)\n",
    "Dil To Pagal Hai (1997)\n",
    "Kal Ho Naa Ho (2003)\n",
    "Mr. India (1987)\n",
    "Kabhie Kabhie (1976)\n",
    "Andaz Apna Apna (1994)\n",
    "Queen (2013)\n",
    "Gangs of Wasseypur (2012)\n",
    "Kuch Kuch Hota Hai (1998)\n",
    "Devdas (2002)\n",
    "Swades (2004)\n",
    "Chak De! India (2007)\n",
    "Rang De Basanti (2006)\n",
    "Dil Se.. (1998)\n",
    "Black (2005)\n",
    "Dhoom 2 (2006)\n",
    "Kahaani (2012)\n",
    "Rock On!! (2008)\n",
    "A Wednesday! (2008)\n",
    "Dangal (2016)\n",
    "Barfi! (2012)\n",
    "PK (2014)\n",
    "Bajrangi Bhaijaan (2015)\n",
    "3 Idiots (2009)\n",
    "Gangs of Wasseypur (2012)\n",
    "Zindagi Na Milegi Dobara (2011)\n",
    "Lagaan: Once Upon a Time in India (2001)\n",
    "Raazi (2018)\n",
    "Uri: The Surgical Strike (2019)\n",
    "Gully Boy (2019)\n",
    "Padmaavat (2018)\n",
    "Kaho Naa... Pyaar Hai (2000)\n",
    "Dilwale Dulhania Le Jayenge (1995)\n",
    "Krrish (2006)\n",
    "Hum Aapke Hain Koun..! (1994)\n",
    "'''\n",
    "movies = movies.splitlines()\n",
    "movies\n"
   ]
  },
  {
   "cell_type": "code",
   "execution_count": null,
   "metadata": {},
   "outputs": [],
   "source": [
    "movies = set(movies)\n",
    "movies"
   ]
  },
  {
   "cell_type": "code",
   "execution_count": null,
   "metadata": {},
   "outputs": [],
   "source": [
    "movies = list(movies)\n",
    "movies"
   ]
  },
  {
   "cell_type": "code",
   "execution_count": null,
   "metadata": {},
   "outputs": [],
   "source": [
    "print(len(movies))"
   ]
  },
  {
   "cell_type": "code",
   "execution_count": null,
   "metadata": {},
   "outputs": [],
   "source": [
    "movies.sort()"
   ]
  },
  {
   "cell_type": "code",
   "execution_count": null,
   "metadata": {},
   "outputs": [],
   "source": [
    "movies.reverse()\n",
    "movies"
   ]
  },
  {
   "cell_type": "code",
   "execution_count": null,
   "metadata": {},
   "outputs": [],
   "source": [
    "movies.sort(reverse = True) #sort in reverse order\n",
    "movies"
   ]
  },
  {
   "cell_type": "code",
   "execution_count": null,
   "metadata": {},
   "outputs": [],
   "source": [
    "movies.count('Inception (2010)')"
   ]
  },
  {
   "cell_type": "code",
   "execution_count": 66,
   "metadata": {},
   "outputs": [
    {
     "data": {
      "text/plain": [
       "4"
      ]
     },
     "execution_count": 66,
     "metadata": {},
     "output_type": "execute_result"
    }
   ],
   "source": [
    "movies.index('Toy Story (1995)')"
   ]
  },
  {
   "cell_type": "code",
   "execution_count": null,
   "metadata": {},
   "outputs": [],
   "source": [
    "movies_bk = movies.copy()"
   ]
  },
  {
   "cell_type": "code",
   "execution_count": 65,
   "metadata": {},
   "outputs": [
    {
     "name": "stdout",
     "output_type": "stream",
     "text": [
      "'The' or 'the' is in the list: 44 times\n"
     ]
    }
   ],
   "source": [
    "c = 0\n",
    "for i in movies:\n",
    "    if \"the\" in i.lower():\n",
    "        c+=1\n",
    "print(\"'The' or 'the' is in the list:\",c,\"times\")"
   ]
  },
  {
   "cell_type": "markdown",
   "metadata": {},
   "source": [
    "## list comprehension\n",
    "```shell\n",
    "    #new_list = [opertaion loop condition]\n",
    "    size_movies = []\n",
    "    for movie in movies:\n",
    "        s = len(movie)\n",
    "        size_movies.append(s)\n",
    "    print(size_movies)\n",
    "    #using comprehension\n",
    "    size_movies = [len(i) for i in movies]"
   ]
  },
  {
   "cell_type": "code",
   "execution_count": 67,
   "metadata": {},
   "outputs": [],
   "source": [
    "size_movies = [len(i) for i in movies]"
   ]
  },
  {
   "cell_type": "code",
   "execution_count": 68,
   "metadata": {},
   "outputs": [
    {
     "name": "stdout",
     "output_type": "stream",
     "text": [
      "[16, 2, 3, 4, 5, 6, 7, 8, 9, 10]\n",
      "[256, 4, 9, 16, 25, 36, 49, 64, 81, 100]\n"
     ]
    }
   ],
   "source": [
    "x = [16, 2,3, 4, 5,6,7,8,9,10]\n",
    "x2 = [i**2 for i in x]\n",
    "print(x)\n",
    "print(x2)"
   ]
  },
  {
   "cell_type": "code",
   "execution_count": 69,
   "metadata": {},
   "outputs": [
    {
     "name": "stdout",
     "output_type": "stream",
     "text": [
      "[16, 2, 3, 4, 5, 6, 7, 8, 9, 10]\n",
      "[256, 4, 16, 36, 64, 100]\n"
     ]
    }
   ],
   "source": [
    "x2_even = [i**2 for i in x if i%2==0]\n",
    "print(x)\n",
    "print(x2_even)"
   ]
  }
 ],
 "metadata": {
  "kernelspec": {
   "display_name": "base",
   "language": "python",
   "name": "python3"
  },
  "language_info": {
   "codemirror_mode": {
    "name": "ipython",
    "version": 3
   },
   "file_extension": ".py",
   "mimetype": "text/x-python",
   "name": "python",
   "nbconvert_exporter": "python",
   "pygments_lexer": "ipython3",
   "version": "3.10.10"
  },
  "orig_nbformat": 4
 },
 "nbformat": 4,
 "nbformat_minor": 2
}
