{
 "cells": [
  {
   "cell_type": "code",
   "execution_count": 2,
   "metadata": {},
   "outputs": [],
   "source": [
    "name = input(\"Enter the name :\")\n",
    "city = input(\"enter the name of you city: \")\n"
   ]
  },
  {
   "cell_type": "code",
   "execution_count": 7,
   "metadata": {},
   "outputs": [],
   "source": [
    "age = int(input(\"enter your age:\"))"
   ]
  },
  {
   "cell_type": "code",
   "execution_count": 9,
   "metadata": {},
   "outputs": [
    {
     "name": "stdout",
     "output_type": "stream",
     "text": [
      "simple intrest 200.0\n"
     ]
    }
   ],
   "source": [
    "p = int(input(\"Enter the principle amount\"))\n",
    "t = int(input(\"enter the time in yrs\"))\n",
    "r = int(input(\"enter the rate pa\"))\n",
    "print(\"simple intrest:\",p*t*r/100)"
   ]
  },
  {
   "cell_type": "code",
   "execution_count": 13,
   "metadata": {},
   "outputs": [
    {
     "name": "stdout",
     "output_type": "stream",
     "text": [
      "simple intrest: 20 🤑\n"
     ]
    }
   ],
   "source": [
    "print(\"simple intrest:\",int(input(\"Enter the principle amount\"))*int(input(\"enter the time in yrs\"))*int(input(\"enter the rate pa\"))//100,\"🤑\")"
   ]
  }
 ],
 "metadata": {
  "kernelspec": {
   "display_name": "base",
   "language": "python",
   "name": "python3"
  },
  "language_info": {
   "codemirror_mode": {
    "name": "ipython",
    "version": 3
   },
   "file_extension": ".py",
   "mimetype": "text/x-python",
   "name": "python",
   "nbconvert_exporter": "python",
   "pygments_lexer": "ipython3",
   "version": "3.10.10"
  },
  "orig_nbformat": 4
 },
 "nbformat": 4,
 "nbformat_minor": 2
}
