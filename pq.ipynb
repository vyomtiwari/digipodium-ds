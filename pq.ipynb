{
 "cells": [
  {
   "cell_type": "code",
   "execution_count": 2,
   "metadata": {},
   "outputs": [
    {
     "name": "stdout",
     "output_type": "stream",
     "text": [
      "1\n",
      "2\n",
      "3\n",
      "4\n",
      "5\n",
      "6\n",
      "7\n",
      "8\n",
      "9\n",
      "10\n"
     ]
    }
   ],
   "source": [
    "# Write a program to print numbers from 1 to 10 using a for loop.\n",
    "for i in range(1, 11):\n",
    "    print(i)"
   ]
  },
  {
   "cell_type": "code",
   "execution_count": 3,
   "metadata": {},
   "outputs": [
    {
     "name": "stdout",
     "output_type": "stream",
     "text": [
      "5 X 1 = 5\n",
      "5 X 2 = 10\n",
      "5 X 3 = 15\n",
      "5 X 4 = 20\n",
      "5 X 5 = 25\n",
      "5 X 6 = 30\n",
      "5 X 7 = 35\n",
      "5 X 8 = 40\n",
      "5 X 9 = 45\n",
      "5 X 10 = 50\n"
     ]
    }
   ],
   "source": [
    "# Write a program to print the multiplication table of a given number using a while loop.\n",
    "n = int(input('Enter the number to print table for :'))\n",
    "for i in range (1,11):\n",
    "    print(f'{n} X {i} = {n*i}')"
   ]
  },
  {
   "cell_type": "code",
   "execution_count": 7,
   "metadata": {},
   "outputs": [
    {
     "name": "stdout",
     "output_type": "stream",
     "text": [
      "2450\n"
     ]
    }
   ],
   "source": [
    "# Write a program to find the sum of all even numbers between 1 and 100 using a for loop.\n",
    "\n",
    "sum=0\n",
    "for i in range(2,100,2):\n",
    "    sum += i\n",
    "print(sum)"
   ]
  },
  {
   "cell_type": "code",
   "execution_count": 16,
   "metadata": {},
   "outputs": [
    {
     "name": "stdout",
     "output_type": "stream",
     "text": [
      "prime\n"
     ]
    }
   ],
   "source": [
    "#Write a program to check if a given number is prime or not using a while loop.\n",
    "n = int(input('enter the number you want to check'))\n",
    "a = int(n**(1/2))+1\n",
    "while(a>1):\n",
    "    if n%a == 0:\n",
    "        print('not prime the number is divisible by ',a)\n",
    "        break\n",
    "    a-=1\n",
    "    if(a==1):\n",
    "        print('prime')"
   ]
  },
  {
   "cell_type": "code",
   "execution_count": 20,
   "metadata": {},
   "outputs": [
    {
     "name": "stdout",
     "output_type": "stream",
     "text": [
      "120\n"
     ]
    }
   ],
   "source": [
    "# Write a program to calculate the factorial of a number using a for loop.\n",
    "n = int(input('enter the number you want to calculate factorial'))\n",
    "f =1\n",
    "if n >0:\n",
    "    for i in range (n,1,-1):\n",
    "     f*=i\n",
    "    print(f)\n",
    "    "
   ]
  },
  {
   "cell_type": "code",
   "execution_count": 29,
   "metadata": {},
   "outputs": [
    {
     "name": "stdout",
     "output_type": "stream",
     "text": [
      "0 + 1 + 1 + 2 + 3 + 5 + 8 + 13 "
     ]
    }
   ],
   "source": [
    "# Write a program to print the Fibonacci series up to a given limit using a while loop.\n",
    "n = int(input('enter the limit of fibonacci series'))\n",
    "a = 1\n",
    "b = 0\n",
    "print('0 ',end='')\n",
    "while( a < n):\n",
    "    print('+',a,end=' ')\n",
    "    temp = a\n",
    "    a +=b\n",
    "    b = temp"
   ]
  },
  {
   "cell_type": "code",
   "execution_count": 33,
   "metadata": {},
   "outputs": [
    {
     "name": "stdout",
     "output_type": "stream",
     "text": [
      "999\n"
     ]
    }
   ],
   "source": [
    "#Write a program to find the largest element in an array using a for loop.\n",
    "a = [12,23,53,1,13,23,-12,342,123,532,34,999]\n",
    "for i in a:\n",
    "    max = i if i > max else max\n",
    "print(max)\n"
   ]
  },
  {
   "cell_type": "code",
   "execution_count": 40,
   "metadata": {},
   "outputs": [
    {
     "name": "stdout",
     "output_type": "stream",
     "text": [
      " qhrq oqriq qvnruiawqui\n"
     ]
    }
   ],
   "source": [
    "# Write a program to reverse a given string using a while loop.\n",
    "s = 'iuqwaiurnvq qirqo qrhq '\n",
    "rs = ''\n",
    "while(s != ''):\n",
    "    rs+= s[-1]\n",
    "    s= s[:-1]\n",
    "print(rs)\n",
    "\n"
   ]
  },
  {
   "cell_type": "code",
   "execution_count": 44,
   "metadata": {},
   "outputs": [
    {
     "name": "stdout",
     "output_type": "stream",
     "text": [
      "65\n",
      "66\n",
      "67\n",
      "68\n",
      "69\n",
      "70\n",
      "71\n",
      "72\n",
      "73\n",
      "74\n",
      "75\n",
      "76\n",
      "77\n",
      "78\n",
      "79\n",
      "80\n",
      "81\n",
      "82\n",
      "83\n",
      "84\n",
      "85\n",
      "86\n",
      "87\n",
      "88\n",
      "89\n"
     ]
    }
   ],
   "source": [
    "#Write a program to print the ASCII values of all uppercase letters using a for loop.\n",
    "\n",
    "for a in range (ord('A'),ord('Z')):\n",
    "    print(a)"
   ]
  },
  {
   "cell_type": "code",
   "execution_count": 71,
   "metadata": {},
   "outputs": [
    {
     "name": "stdout",
     "output_type": "stream",
     "text": [
      "palindrome\n"
     ]
    }
   ],
   "source": [
    "#Write a program to check if a given string is a palindrome using a while loop.\n",
    "stri = input('enter the string')\n",
    "stri = stri.strip()\n",
    "while(stri!=''):\n",
    "    s1 = stri[0]\n",
    "    s2 = stri[-1]\n",
    "    if(s1!=s2):\n",
    "        print('not a palindrome')\n",
    "        break\n",
    "    stri = stri[1:-1]\n",
    "else:\n",
    "    print('palindrome')"
   ]
  },
  {
   "cell_type": "code",
   "execution_count": 61,
   "metadata": {},
   "outputs": [
    {
     "name": "stdout",
     "output_type": "stream",
     "text": [
      "-12\n"
     ]
    }
   ],
   "source": [
    "#Write a program to find the smallest element in an array using a while loop.\n",
    "a = [12,23,53,1,13,23,-12,342,123,532,34,999]\n",
    "min = float('inf')\n",
    "while(a):\n",
    "    min = a[-1] if a[-1]<min else min\n",
    "    a.pop()\n",
    "print(min)"
   ]
  },
  {
   "cell_type": "code",
   "execution_count": 58,
   "metadata": {},
   "outputs": [
    {
     "name": "stdout",
     "output_type": "stream",
     "text": [
      "178\n"
     ]
    }
   ],
   "source": [
    "# Write a program to calculate the average of a list of numbers using a for loop.\n",
    "a = [12,23,53,1,13,23,-12,342,123,532,34,999]\n",
    "sum =0\n",
    "for i in a:\n",
    "    sum += i\n",
    "print(sum//len(a))"
   ]
  },
  {
   "cell_type": "code",
   "execution_count": 8,
   "metadata": {},
   "outputs": [
    {
     "name": "stdout",
     "output_type": "stream",
     "text": [
      "45\n"
     ]
    }
   ],
   "source": [
    "# Write a program to calculate the sum of digits of a number using a for loop.\n",
    "n = int(input('enter the number'))\n",
    "n = str(n)\n",
    "s = 0\n",
    "for i in n:\n",
    "    s += int(i)\n",
    "print(s)\n",
    "    "
   ]
  },
  {
   "cell_type": "code",
   "execution_count": 13,
   "metadata": {},
   "outputs": [
    {
     "name": "stdout",
     "output_type": "stream",
     "text": [
      "leap year\n"
     ]
    }
   ],
   "source": [
    "# Write a program to check if a given year is a leap year using a while loop.\n",
    "n = int(input('enter the year'))\n",
    "while(n%4==0):\n",
    "    if n%400 ==0:\n",
    "        print('leap year')\n",
    "        break\n",
    "    elif n%100 ==0:\n",
    "        print('not a leap year')\n",
    "        break\n",
    "    else:\n",
    "        print('leap year')\n",
    "        break\n",
    "else:\n",
    "    print('not a leap year')\n"
   ]
  },
  {
   "cell_type": "code",
   "execution_count": 19,
   "metadata": {},
   "outputs": [
    {
     "name": "stdout",
     "output_type": "stream",
     "text": [
      "1 X 1 = 1\n",
      "1 X 2 = 2\n",
      "1 X 3 = 3\n",
      "1 X 4 = 4\n",
      "1 X 5 = 5\n",
      "1 X 6 = 6\n",
      "1 X 7 = 7\n",
      "1 X 8 = 8\n",
      "1 X 9 = 9\n",
      "1 X 10 = 10\n",
      "-----------\n",
      "-----------\n",
      "2 X 1 = 2\n",
      "2 X 2 = 4\n",
      "2 X 3 = 6\n",
      "2 X 4 = 8\n",
      "2 X 5 = 10\n",
      "2 X 6 = 12\n",
      "2 X 7 = 14\n",
      "2 X 8 = 16\n",
      "2 X 9 = 18\n",
      "2 X 10 = 20\n",
      "-----------\n",
      "-----------\n",
      "3 X 1 = 3\n",
      "3 X 2 = 6\n",
      "3 X 3 = 9\n",
      "3 X 4 = 12\n",
      "3 X 5 = 15\n",
      "3 X 6 = 18\n",
      "3 X 7 = 21\n",
      "3 X 8 = 24\n",
      "3 X 9 = 27\n",
      "3 X 10 = 30\n",
      "-----------\n",
      "-----------\n",
      "4 X 1 = 4\n",
      "4 X 2 = 8\n",
      "4 X 3 = 12\n",
      "4 X 4 = 16\n",
      "4 X 5 = 20\n",
      "4 X 6 = 24\n",
      "4 X 7 = 28\n",
      "4 X 8 = 32\n",
      "4 X 9 = 36\n",
      "4 X 10 = 40\n",
      "-----------\n",
      "-----------\n",
      "5 X 1 = 5\n",
      "5 X 2 = 10\n",
      "5 X 3 = 15\n",
      "5 X 4 = 20\n",
      "5 X 5 = 25\n",
      "5 X 6 = 30\n",
      "5 X 7 = 35\n",
      "5 X 8 = 40\n",
      "5 X 9 = 45\n",
      "5 X 10 = 50\n",
      "-----------\n",
      "-----------\n"
     ]
    }
   ],
   "source": [
    "# Write a program to print the multiplication table of numbers from 1 to 5 using a for loop.\n",
    "for i in range (1,6):\n",
    "    for j in range(1,11):\n",
    "        print(f'{i} X {j} = {i*j}')\n",
    "    print('-----------\\n-----------')\n"
   ]
  },
  {
   "cell_type": "code",
   "execution_count": 20,
   "metadata": {},
   "outputs": [
    {
     "name": "stdout",
     "output_type": "stream",
     "text": [
      "120\n"
     ]
    }
   ],
   "source": [
    "# Write a program to find the factorial of a number using a while loop.\n",
    "n = int(input('enter the number'))\n",
    "f = 1\n",
    "while(n>1):\n",
    "    f*=n\n",
    "    n-=1\n",
    "print(f)\n",
    "    "
   ]
  },
  {
   "cell_type": "code",
   "execution_count": 22,
   "metadata": {},
   "outputs": [
    {
     "name": "stdout",
     "output_type": "stream",
     "text": [
      "5\n"
     ]
    }
   ],
   "source": [
    "# Write a program to count the number of vowels in a given string using a for loop.\n",
    "s = input('enter the string')\n",
    "c = 0\n",
    "for i in s.lower():\n",
    "    if i in 'aeiou':\n",
    "        c+=1\n",
    "print(c)"
   ]
  },
  {
   "cell_type": "markdown",
   "metadata": {},
   "source": [
    "# string"
   ]
  },
  {
   "cell_type": "markdown",
   "metadata": {},
   "source": [
    "\n",
    "\n",
    "\n",
    "Print this string to move to newline '\\n' is used. (results should look exactly like the provided string)\n",
    "Print a variable with some text using a single print function, output should look like following.\n",
    "the variable is 15\n",
    "concatenate the following strings and print the result\n",
    "s1 = 'python '\n",
    "s2 = 'is '\n",
    "s3 = 'great.'\n",
    "Print # 20 times without using a loop\n",
    "Print numbers from 1 to 9, each on a seperate line, followed by a dot, output should look like the following-\n",
    "1.\n",
    "2.\n",
    "3.\n",
    "\n",
    "Ask user to input a sentence and print each word on a different line.\n",
    "Ask user to input a string and check if the string ends with '?'\n",
    "Ask user to input a string and print how many times e appeared in the string\n",
    "Check if the user input is a number.\n",
    "Remove the extra spaces in beginning and in the end of the following string-\n",
    "text = '   this is not a good string           '\n",
    "Ask user to input string, print found if any of the character is upper case.\n",
    "Extract names from the following string and store them in a list.\n",
    "names = 'Joe, David, Mark, Tom, Chris, Robert'\n",
    "In the following string, add aye in the end of every word and print the results.\n",
    "text = 'this is some text'\n",
    "ask user to enter a string and check if the string contains fyi\n",
    "Remove all the special characters and numbers from the following string\n",
    "text = '%p34@y!*-*!t68h#&on404'\n",
    "calculate the average word length of the following paragraph.\n"
   ]
  },
  {
   "cell_type": "code",
   "execution_count": 3,
   "metadata": {},
   "outputs": [
    {
     "name": "stdout",
     "output_type": "stream",
     "text": [
      "heloo\n",
      "how\n",
      "are\n",
      "you\n"
     ]
    }
   ],
   "source": [
    "s = \"heloo how are you\"\n",
    "s = s.split()\n",
    "for i in s:\n",
    "    print(i)"
   ]
  },
  {
   "cell_type": "code",
   "execution_count": 6,
   "metadata": {},
   "outputs": [
    {
     "name": "stdout",
     "output_type": "stream",
     "text": [
      "dlrow olleh\n"
     ]
    }
   ],
   "source": [
    "s = \"hello world\"\n",
    "s = s[-1::-1]\n",
    "print(s)"
   ]
  },
  {
   "cell_type": "code",
   "execution_count": 8,
   "metadata": {},
   "outputs": [
    {
     "name": "stdout",
     "output_type": "stream",
     "text": [
      " Python is easy to learn\n"
     ]
    }
   ],
   "source": [
    "words = ['Python', 'is', 'easy', 'to', 'learn']\n",
    "s = ''\n",
    "for i in words:\n",
    "    s = s+' '+i\n",
    "print(s)"
   ]
  },
  {
   "cell_type": "code",
   "execution_count": 9,
   "metadata": {},
   "outputs": [
    {
     "name": "stdout",
     "output_type": "stream",
     "text": [
      "hello my name is vyom\n",
      "i am on a journey to change my life\n",
      "will you join me\n"
     ]
    }
   ],
   "source": [
    "print('''hello my name is vyom\n",
    "i am on a journey to change my life\n",
    "will you join me''')"
   ]
  },
  {
   "cell_type": "code",
   "execution_count": 11,
   "metadata": {},
   "outputs": [
    {
     "name": "stdout",
     "output_type": "stream",
     "text": [
      "####################\n"
     ]
    }
   ],
   "source": [
    "print('#'*20)"
   ]
  },
  {
   "cell_type": "code",
   "execution_count": 15,
   "metadata": {},
   "outputs": [
    {
     "name": "stdout",
     "output_type": "stream",
     "text": [
      "1.\n",
      "2.\n",
      "3.\n",
      "4.\n",
      "5.\n",
      "6.\n",
      "7.\n",
      "8.\n",
      "9.\n"
     ]
    }
   ],
   "source": [
    "for i in range (1,10):\n",
    "    print(f'{i}.')"
   ]
  },
  {
   "cell_type": "code",
   "execution_count": 17,
   "metadata": {},
   "outputs": [
    {
     "name": "stdout",
     "output_type": "stream",
     "text": [
      "2\n"
     ]
    }
   ],
   "source": [
    "print(s.count('a'))"
   ]
  },
  {
   "cell_type": "code",
   "execution_count": 22,
   "metadata": {},
   "outputs": [
    {
     "name": "stdout",
     "output_type": "stream",
     "text": [
      "no\n"
     ]
    }
   ],
   "source": [
    "i = input('enter the string')\n",
    "if(i.isnumeric()):\n",
    "    print('yes')\n",
    "else:\n",
    "    print('no')"
   ]
  },
  {
   "cell_type": "code",
   "execution_count": 25,
   "metadata": {},
   "outputs": [],
   "source": [
    "text = '   this is not a good string           '\n",
    "\n",
    "text= text.strip()"
   ]
  },
  {
   "cell_type": "code",
   "execution_count": 31,
   "metadata": {},
   "outputs": [
    {
     "name": "stdout",
     "output_type": "stream",
     "text": [
      "found\n"
     ]
    }
   ],
   "source": [
    "i = input('enter the string')\n",
    "for j in i:\n",
    "    if( j.isupper()):\n",
    "        print('found')\n",
    "        break\n"
   ]
  },
  {
   "cell_type": "code",
   "execution_count": 49,
   "metadata": {},
   "outputs": [
    {
     "data": {
      "text/plain": [
       "['Joe', 'David', 'Mark', 'Tom', 'Chris', 'Robert']"
      ]
     },
     "execution_count": 49,
     "metadata": {},
     "output_type": "execute_result"
    }
   ],
   "source": [
    "names = 'Joe, David, Mark, Tom, Chris, Robert'\n",
    "n = names.split(',')\n",
    "n = list(map(str.strip,n))\n",
    "n\n",
    "\n"
   ]
  },
  {
   "cell_type": "code",
   "execution_count": 59,
   "metadata": {},
   "outputs": [
    {
     "name": "stdout",
     "output_type": "stream",
     "text": [
      "Joe\n",
      "David\n",
      "Mark\n",
      "Tom\n",
      "Chris\n",
      "Robert\n"
     ]
    }
   ],
   "source": [
    "names = 'Joe, David, Mark, Tom, Chris, Robert'\n",
    "n = names.split(',')\n",
    "striped = list([str.strip(i) for i in n])\n",
    "for i in striped:\n",
    "    print(i)\n"
   ]
  },
  {
   "cell_type": "code",
   "execution_count": 63,
   "metadata": {},
   "outputs": [
    {
     "data": {
      "text/plain": [
       "'thisaye isaye someaye textaye'"
      ]
     },
     "execution_count": 63,
     "metadata": {},
     "output_type": "execute_result"
    }
   ],
   "source": [
    "text = 'this is some text'\n",
    "text.replace(' ','aye ')+'aye'"
   ]
  },
  {
   "cell_type": "code",
   "execution_count": 73,
   "metadata": {},
   "outputs": [
    {
     "data": {
      "text/plain": [
       "'%p34@y!*-*!t68h#&on404'"
      ]
     },
     "execution_count": 73,
     "metadata": {},
     "output_type": "execute_result"
    }
   ],
   "source": [
    "text = '%p34@y!*-*!t68h#&on404'\n",
    "for i in text:\n",
    "    if not(i.isalnum):\n",
    "        text = text.remove(i,1)\n",
    "text\n",
    "        "
   ]
  },
  {
   "cell_type": "code",
   "execution_count": null,
   "metadata": {},
   "outputs": [],
   "source": []
  }
 ],
 "metadata": {
  "kernelspec": {
   "display_name": "base",
   "language": "python",
   "name": "python3"
  },
  "language_info": {
   "codemirror_mode": {
    "name": "ipython",
    "version": 3
   },
   "file_extension": ".py",
   "mimetype": "text/x-python",
   "name": "python",
   "nbconvert_exporter": "python",
   "pygments_lexer": "ipython3",
   "version": "3.10.10"
  },
  "orig_nbformat": 4
 },
 "nbformat": 4,
 "nbformat_minor": 2
}
