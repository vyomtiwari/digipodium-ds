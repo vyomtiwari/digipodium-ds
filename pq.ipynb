{
 "cells": [
  {
   "cell_type": "markdown",
   "metadata": {},
   "source": [
    "\n",
    "\n",
    "\n",
    "\n",
    "\n",
    "\n",
    "\n",
    "\n",
    "\n",
    "\n",
    "\n",
    "\n",
    "\n",
    "\n",
    "\n",
    "\n",
    "\n",
    "Write a program to check if a given year is a leap year using a while loop.\n",
    "\n",
    "Write a program to print the multiplication table of numbers from 1 to 5 using a for loop.\n",
    "\n",
    "Write a program to find the factorial of a number using a while loop.\n",
    "\n",
    "Write a program to count the number of vowels in a given string using a for loop.\n",
    "\n",
    "Write a program to check if a given number is a perfect square using a while loop.\n",
    "\n",
    "Write a program to find the largest and smallest elements in an array using a for loop.\n",
    "\n",
    "Write a program to reverse the order of words in a sentence using a while loop.\n",
    "\n"
   ]
  },
  {
   "cell_type": "code",
   "execution_count": 2,
   "metadata": {},
   "outputs": [
    {
     "name": "stdout",
     "output_type": "stream",
     "text": [
      "1\n",
      "2\n",
      "3\n",
      "4\n",
      "5\n",
      "6\n",
      "7\n",
      "8\n",
      "9\n",
      "10\n"
     ]
    }
   ],
   "source": [
    "# Write a program to print numbers from 1 to 10 using a for loop.\n",
    "for i in range(1, 11):\n",
    "    print(i)"
   ]
  },
  {
   "cell_type": "code",
   "execution_count": 3,
   "metadata": {},
   "outputs": [
    {
     "name": "stdout",
     "output_type": "stream",
     "text": [
      "5 X 1 = 5\n",
      "5 X 2 = 10\n",
      "5 X 3 = 15\n",
      "5 X 4 = 20\n",
      "5 X 5 = 25\n",
      "5 X 6 = 30\n",
      "5 X 7 = 35\n",
      "5 X 8 = 40\n",
      "5 X 9 = 45\n",
      "5 X 10 = 50\n"
     ]
    }
   ],
   "source": [
    "# Write a program to print the multiplication table of a given number using a while loop.\n",
    "n = int(input('Enter the number to print table for :'))\n",
    "for i in range (1,11):\n",
    "    print(f'{n} X {i} = {n*i}')"
   ]
  },
  {
   "cell_type": "code",
   "execution_count": 7,
   "metadata": {},
   "outputs": [
    {
     "name": "stdout",
     "output_type": "stream",
     "text": [
      "2450\n"
     ]
    }
   ],
   "source": [
    "# Write a program to find the sum of all even numbers between 1 and 100 using a for loop.\n",
    "\n",
    "sum=0\n",
    "for i in range(2,100,2):\n",
    "    sum += i\n",
    "print(sum)"
   ]
  },
  {
   "cell_type": "code",
   "execution_count": 16,
   "metadata": {},
   "outputs": [
    {
     "name": "stdout",
     "output_type": "stream",
     "text": [
      "prime\n"
     ]
    }
   ],
   "source": [
    "#Write a program to check if a given number is prime or not using a while loop.\n",
    "n = int(input('enter the number you want to check'))\n",
    "a = int(n**(1/2))+1\n",
    "while(a>1):\n",
    "    if n%a == 0:\n",
    "        print('not prime the number is divisible by ',a)\n",
    "        break\n",
    "    a-=1\n",
    "    if(a==1):\n",
    "        print('prime')"
   ]
  },
  {
   "cell_type": "code",
   "execution_count": 20,
   "metadata": {},
   "outputs": [
    {
     "name": "stdout",
     "output_type": "stream",
     "text": [
      "120\n"
     ]
    }
   ],
   "source": [
    "# Write a program to calculate the factorial of a number using a for loop.\n",
    "n = int(input('enter the number you want to calculate factorial'))\n",
    "f =1\n",
    "if n >0:\n",
    "    for i in range (n,1,-1):\n",
    "     f*=i\n",
    "    print(f)\n",
    "    "
   ]
  },
  {
   "cell_type": "code",
   "execution_count": 29,
   "metadata": {},
   "outputs": [
    {
     "name": "stdout",
     "output_type": "stream",
     "text": [
      "0 + 1 + 1 + 2 + 3 + 5 + 8 + 13 "
     ]
    }
   ],
   "source": [
    "# Write a program to print the Fibonacci series up to a given limit using a while loop.\n",
    "n = int(input('enter the limit of fibonacci series'))\n",
    "a = 1\n",
    "b = 0\n",
    "print('0 ',end='')\n",
    "while( a < n):\n",
    "    print('+',a,end=' ')\n",
    "    temp = a\n",
    "    a +=b\n",
    "    b = temp"
   ]
  },
  {
   "cell_type": "code",
   "execution_count": 33,
   "metadata": {},
   "outputs": [
    {
     "name": "stdout",
     "output_type": "stream",
     "text": [
      "999\n"
     ]
    }
   ],
   "source": [
    "#Write a program to find the largest element in an array using a for loop.\n",
    "a = [12,23,53,1,13,23,-12,342,123,532,34,999]\n",
    "for i in a:\n",
    "    max = i if i > max else max\n",
    "print(max)\n"
   ]
  },
  {
   "cell_type": "code",
   "execution_count": 40,
   "metadata": {},
   "outputs": [
    {
     "name": "stdout",
     "output_type": "stream",
     "text": [
      " qhrq oqriq qvnruiawqui\n"
     ]
    }
   ],
   "source": [
    "# Write a program to reverse a given string using a while loop.\n",
    "s = 'iuqwaiurnvq qirqo qrhq '\n",
    "rs = ''\n",
    "while(s != ''):\n",
    "    rs+= s[-1]\n",
    "    s= s[:-1]\n",
    "print(rs)\n",
    "\n"
   ]
  },
  {
   "cell_type": "code",
   "execution_count": 44,
   "metadata": {},
   "outputs": [
    {
     "name": "stdout",
     "output_type": "stream",
     "text": [
      "65\n",
      "66\n",
      "67\n",
      "68\n",
      "69\n",
      "70\n",
      "71\n",
      "72\n",
      "73\n",
      "74\n",
      "75\n",
      "76\n",
      "77\n",
      "78\n",
      "79\n",
      "80\n",
      "81\n",
      "82\n",
      "83\n",
      "84\n",
      "85\n",
      "86\n",
      "87\n",
      "88\n",
      "89\n"
     ]
    }
   ],
   "source": [
    "#Write a program to print the ASCII values of all uppercase letters using a for loop.\n",
    "\n",
    "for a in range (ord('A'),ord('Z')):\n",
    "    print(a)"
   ]
  },
  {
   "cell_type": "code",
   "execution_count": 71,
   "metadata": {},
   "outputs": [
    {
     "name": "stdout",
     "output_type": "stream",
     "text": [
      "palindrome\n"
     ]
    }
   ],
   "source": [
    "#Write a program to check if a given string is a palindrome using a while loop.\n",
    "stri = input('enter the string')\n",
    "stri = stri.strip()\n",
    "while(stri!=''):\n",
    "    s1 = stri[0]\n",
    "    s2 = stri[-1]\n",
    "    if(s1!=s2):\n",
    "        print('not a palindrome')\n",
    "        break\n",
    "    stri = stri[1:-1]\n",
    "else:\n",
    "    print('palindrome')"
   ]
  },
  {
   "cell_type": "code",
   "execution_count": 61,
   "metadata": {},
   "outputs": [
    {
     "name": "stdout",
     "output_type": "stream",
     "text": [
      "-12\n"
     ]
    }
   ],
   "source": [
    "#Write a program to find the smallest element in an array using a while loop.\n",
    "a = [12,23,53,1,13,23,-12,342,123,532,34,999]\n",
    "min = float('inf')\n",
    "while(a):\n",
    "    min = a[-1] if a[-1]<min else min\n",
    "    a.pop()\n",
    "print(min)"
   ]
  },
  {
   "cell_type": "code",
   "execution_count": 58,
   "metadata": {},
   "outputs": [
    {
     "name": "stdout",
     "output_type": "stream",
     "text": [
      "178\n"
     ]
    }
   ],
   "source": [
    "# Write a program to calculate the average of a list of numbers using a for loop.\n",
    "a = [12,23,53,1,13,23,-12,342,123,532,34,999]\n",
    "sum =0\n",
    "for i in a:\n",
    "    sum += i\n",
    "print(sum//len(a))"
   ]
  },
  {
   "cell_type": "code",
   "execution_count": 72,
   "metadata": {},
   "outputs": [
    {
     "ename": "TypeError",
     "evalue": "'str' object is not callable",
     "output_type": "error",
     "traceback": [
      "\u001b[0;31m---------------------------------------------------------------------------\u001b[0m",
      "\u001b[0;31mTypeError\u001b[0m                                 Traceback (most recent call last)",
      "Cell \u001b[0;32mIn[72], line 3\u001b[0m\n\u001b[1;32m      1\u001b[0m \u001b[39m# Write a program to calculate the sum of digits of a number using a for loop.\u001b[39;00m\n\u001b[1;32m      2\u001b[0m n \u001b[39m=\u001b[39m \u001b[39mint\u001b[39m(\u001b[39minput\u001b[39m(\u001b[39m'\u001b[39m\u001b[39menter the number\u001b[39m\u001b[39m'\u001b[39m))\n\u001b[0;32m----> 3\u001b[0m n \u001b[39m=\u001b[39m \u001b[39mstr\u001b[39;49m(n)\n",
      "\u001b[0;31mTypeError\u001b[0m: 'str' object is not callable"
     ]
    }
   ],
   "source": [
    "# Write a program to calculate the sum of digits of a number using a for loop.\n",
    "n = int(input('enter the number'))\n",
    "for i in r)"
   ]
  }
 ],
 "metadata": {
  "kernelspec": {
   "display_name": "base",
   "language": "python",
   "name": "python3"
  },
  "language_info": {
   "codemirror_mode": {
    "name": "ipython",
    "version": 3
   },
   "file_extension": ".py",
   "mimetype": "text/x-python",
   "name": "python",
   "nbconvert_exporter": "python",
   "pygments_lexer": "ipython3",
   "version": "3.10.10"
  },
  "orig_nbformat": 4
 },
 "nbformat": 4,
 "nbformat_minor": 2
}
