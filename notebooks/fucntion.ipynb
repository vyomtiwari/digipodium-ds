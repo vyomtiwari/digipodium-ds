{
 "cells": [
  {
   "cell_type": "markdown",
   "metadata": {},
   "source": [
    "## programming functions\n",
    "- predefined funtions\n",
    "    - standard library functions\n",
    "        - the functions that come with python like jdk for java\n",
    "    - library (modules) functions \n",
    "        - preinstalled library\n",
    "            - for example \n",
    "                - os\n",
    "                - math\n",
    "                - random\n",
    "                - datetime \n",
    "        - *third party library*\n",
    "            - install with pip\n",
    "                - `pip install <package-name>`\n",
    "                - `pip show <package-name>`\n",
    "            - install with conda\n",
    "                - `conda install <repo> <package-name>`\n",
    "\n",
    "- **user defined function**\n",
    "    - functions with name\n",
    "        - functions without parameters and return value\n",
    "        - functions with return value but no parameter\n",
    "        - functions with parameter but no return value\n",
    "            - required parameter\n",
    "            - default parameter\n",
    "            - named parameter\n",
    "            - variable parameter\n",
    "            - keyword variable parameter\n",
    "        - funcitons with parameter and return value\n",
    "        - generators\n",
    "    - functions without name \n",
    "        - *lambda functions* (anonymous functions)\n",
    "\n"
   ]
  },
  {
   "cell_type": "code",
   "execution_count": null,
   "metadata": {},
   "outputs": [],
   "source": [
    "import math"
   ]
  },
  {
   "cell_type": "code",
   "execution_count": null,
   "metadata": {},
   "outputs": [],
   "source": [
    "import os\n",
    "help(os.listdir)"
   ]
  },
  {
   "cell_type": "code",
   "execution_count": null,
   "metadata": {},
   "outputs": [],
   "source": [
    "def si(p, r, t):\n",
    "    ans = p * r * t /100\n",
    "    print(f'the simple intrest is {ans:.2f}')\n",
    "si(100, 30, 6)"
   ]
  },
  {
   "cell_type": "code",
   "execution_count": null,
   "metadata": {},
   "outputs": [],
   "source": [
    "def prime(n):\n",
    "    a = int(n**(1/2))+1\n",
    "    for i in range(a,1,-1):\n",
    "        if n%i == 0:\n",
    "            print('not prime the number is divisible by ',i)\n",
    "            break\n",
    "    else:\n",
    "        print('prime')"
   ]
  },
  {
   "cell_type": "code",
   "execution_count": null,
   "metadata": {},
   "outputs": [],
   "source": [
    "prime(8)"
   ]
  },
  {
   "cell_type": "code",
   "execution_count": 2,
   "metadata": {},
   "outputs": [],
   "source": [
    "def hypotenuse(p=5, b =1 ):#here the default values are set but defqlut are declare from right hand side\n",
    "    h = (p**2 + b**2)** 0.5\n",
    "    print(h)\n"
   ]
  },
  {
   "cell_type": "code",
   "execution_count": 3,
   "metadata": {},
   "outputs": [
    {
     "name": "stdout",
     "output_type": "stream",
     "text": [
      "5.0990195135927845\n",
      "5.0990195135927845\n",
      "5.385164807134504\n",
      "5.385164807134504\n",
      "5.385164807134504\n"
     ]
    }
   ],
   "source": [
    "hypotenuse()\n",
    "hypotenuse(5)\n",
    "hypotenuse(5,2) #unnamed argument\n",
    "hypotenuse(p = 5, b = 2)\n",
    "hypotenuse(b = 2, p = 5)#named argument"
   ]
  },
  {
   "cell_type": "code",
   "execution_count": 7,
   "metadata": {},
   "outputs": [],
   "source": [
    "def aggregator(*num , operator = 'add'):\n",
    "    if operator == 'add':\n",
    "        ans = 0\n",
    "        for i in num :\n",
    "            ans+=i\n",
    "    elif operator == 'mul':\n",
    "        ans = 1\n",
    "        for i in num :\n",
    "            ans*=i\n",
    "        print(ans)\n",
    "    else:\n",
    "        print('invalud operator')\n",
    "    \n"
   ]
  },
  {
   "cell_type": "code",
   "execution_count": 8,
   "metadata": {},
   "outputs": [
    {
     "name": "stdout",
     "output_type": "stream",
     "text": [
      "618241207500\n"
     ]
    }
   ],
   "source": [
    "aggregator(1,3,25,5,2,3,6,6321,21,345,operator='mul')"
   ]
  },
  {
   "cell_type": "code",
   "execution_count": 3,
   "metadata": {},
   "outputs": [
    {
     "ename": "TypeError",
     "evalue": "'NoneType' object is not subscriptable",
     "output_type": "error",
     "traceback": [
      "\u001b[0;31m---------------------------------------------------------------------------\u001b[0m",
      "\u001b[0;31mTypeError\u001b[0m                                 Traceback (most recent call last)",
      "Cell \u001b[0;32mIn[3], line 17\u001b[0m\n\u001b[1;32m     14\u001b[0m     \u001b[39mprint\u001b[39m(smallestStockPrice(stock,k))\n\u001b[1;32m     16\u001b[0m \u001b[39mif\u001b[39;00m \u001b[39m__name__\u001b[39m \u001b[39m==\u001b[39m \u001b[39m\"\u001b[39m\u001b[39m__main__\u001b[39m\u001b[39m\"\u001b[39m:\n\u001b[0;32m---> 17\u001b[0m     main()\n",
      "Cell \u001b[0;32mIn[3], line 14\u001b[0m, in \u001b[0;36mmain\u001b[0;34m()\u001b[0m\n\u001b[1;32m     12\u001b[0m stock \u001b[39m=\u001b[39m \u001b[39mlist\u001b[39m(\u001b[39mmap\u001b[39m(\u001b[39mint\u001b[39m,\u001b[39minput\u001b[39m()\u001b[39m.\u001b[39msplit()))\n\u001b[1;32m     13\u001b[0m k \u001b[39m=\u001b[39m \u001b[39mint\u001b[39m(\u001b[39minput\u001b[39m())\n\u001b[0;32m---> 14\u001b[0m \u001b[39mprint\u001b[39m(smallestStockPrice(stock,k))\n",
      "Cell \u001b[0;32mIn[3], line 3\u001b[0m, in \u001b[0;36msmallestStockPrice\u001b[0;34m(stock, valuek)\u001b[0m\n\u001b[1;32m      1\u001b[0m \u001b[39mdef\u001b[39;00m \u001b[39msmallestStockPrice\u001b[39m(stock, valuek):\n\u001b[1;32m      2\u001b[0m     stock \u001b[39m=\u001b[39m stock\u001b[39m.\u001b[39msort()\n\u001b[0;32m----> 3\u001b[0m     \u001b[39mreturn\u001b[39;00m stock[valuek]\n",
      "\u001b[0;31mTypeError\u001b[0m: 'NoneType' object is not subscriptable"
     ]
    }
   ],
   "source": [
    "def smallestStockPrice(stock, valuek):\n",
    "    stock = stock.sort()\n",
    "    return stock[valuek]\n",
    "\n",
    "\n",
    "\n",
    "\n",
    "def main():\n",
    "\n",
    "    stock= []\n",
    "    stock_size = int(input(()))\n",
    "    stock = list(map(int,input().split()))\n",
    "    k = int(input())\n",
    "    print(smallestStockPrice(stock,k))\n",
    "\n",
    "if __name__ == \"__main__\":\n",
    "    main()"
   ]
  },
  {
   "cell_type": "code",
   "execution_count": 3,
   "metadata": {},
   "outputs": [
    {
     "name": "stdout",
     "output_type": "stream",
     "text": [
      "None\n"
     ]
    }
   ],
   "source": [
    "st = [12,421,421,31,24,123,12,421,454542,21]\n",
    "st = st.sort()\n",
    "print(st)\n"
   ]
  },
  {
   "cell_type": "code",
   "execution_count": 4,
   "metadata": {},
   "outputs": [
    {
     "name": "stdout",
     "output_type": "stream",
     "text": [
      "9\n"
     ]
    }
   ],
   "source": [
    "def fnc():\n",
    "    return 5,5,7,68,9\n",
    "print(fnc()[-1])"
   ]
  },
  {
   "cell_type": "markdown",
   "metadata": {},
   "source": [
    "## *argv\n",
    "    when we use * it means there is no limit to the number of variables it can take\n",
    "    it takes the tupple as an argument"
   ]
  },
  {
   "cell_type": "code",
   "execution_count": 6,
   "metadata": {},
   "outputs": [
    {
     "name": "stdout",
     "output_type": "stream",
     "text": [
      "(4, 654, 234, 642, 432, 64, 34)\n"
     ]
    }
   ],
   "source": [
    "def ex(*ar):\n",
    "    print(ar)\n",
    "ex(4,654,234,642,432,64,34)"
   ]
  },
  {
   "cell_type": "markdown",
   "metadata": {},
   "source": [
    "## **kwargs\n",
    "    now when we use ** it means it is a unlimited number of keyword argumment pair\n",
    "    it creates a dictionary "
   ]
  },
  {
   "cell_type": "code",
   "execution_count": 7,
   "metadata": {},
   "outputs": [
    {
     "ename": "SyntaxError",
     "evalue": "positional argument follows keyword argument (2949313871.py, line 3)",
     "output_type": "error",
     "traceback": [
      "\u001b[0;36m  Cell \u001b[0;32mIn[7], line 3\u001b[0;36m\u001b[0m\n\u001b[0;31m    ex(a=\"342\",342,324,234)\u001b[0m\n\u001b[0m                          ^\u001b[0m\n\u001b[0;31mSyntaxError\u001b[0m\u001b[0;31m:\u001b[0m positional argument follows keyword argument\n"
     ]
    }
   ],
   "source": [
    "def ex(**ar):\n",
    "    print(ar)\n",
    "ex(a=\"342\",342,324,234)"
   ]
  },
  {
   "cell_type": "code",
   "execution_count": 9,
   "metadata": {},
   "outputs": [
    {
     "name": "stdout",
     "output_type": "stream",
     "text": [
      "{'a': '342', 'b': 342, 'c': 324, 'd': 234}\n"
     ]
    }
   ],
   "source": [
    "def ex(**ar):\n",
    "    print(ar)\n",
    "ex(a=\"342\",b=342,c=324,d=234)"
   ]
  },
  {
   "cell_type": "markdown",
   "metadata": {},
   "source": [
    "## Lambda fuctions \n",
    "    one line fucntion the don't have any name the return value is directly stored in the valued on which we are calling the function"
   ]
  },
  {
   "cell_type": "code",
   "execution_count": 11,
   "metadata": {},
   "outputs": [
    {
     "data": {
      "text/plain": [
       "False"
      ]
     },
     "execution_count": 11,
     "metadata": {},
     "output_type": "execute_result"
    }
   ],
   "source": [
    "odd = lambda a: (a%2==0)\n",
    "odd(5)"
   ]
  },
  {
   "cell_type": "code",
   "execution_count": null,
   "metadata": {},
   "outputs": [],
   "source": []
  }
 ],
 "metadata": {
  "kernelspec": {
   "display_name": "base",
   "language": "python",
   "name": "python3"
  },
  "language_info": {
   "codemirror_mode": {
    "name": "ipython",
    "version": 3
   },
   "file_extension": ".py",
   "mimetype": "text/x-python",
   "name": "python",
   "nbconvert_exporter": "python",
   "pygments_lexer": "ipython3",
   "version": "3.10.10"
  },
  "orig_nbformat": 4
 },
 "nbformat": 4,
 "nbformat_minor": 2
}
