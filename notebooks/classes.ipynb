{
 "cells": [
  {
   "cell_type": "markdown",
   "metadata": {},
   "source": [
    "## Classes\n"
   ]
  },
  {
   "cell_type": "code",
   "execution_count": 44,
   "metadata": {},
   "outputs": [],
   "source": [
    "class Cat:\n",
    "    pass\n",
    "#pass is used ehrn we want to create class without defining the class"
   ]
  },
  {
   "cell_type": "code",
   "execution_count": 45,
   "metadata": {},
   "outputs": [
    {
     "data": {
      "text/plain": [
       "32"
      ]
     },
     "execution_count": 45,
     "metadata": {},
     "output_type": "execute_result"
    }
   ],
   "source": [
    "billu = Cat()\n",
    "billu.__sizeof__()\n",
    "#when creating a class pyton already provides some funcitons \n"
   ]
  },
  {
   "cell_type": "code",
   "execution_count": 46,
   "metadata": {},
   "outputs": [],
   "source": [
    "class Cat:\n",
    "    breed = 'persian'\n",
    "    age = 3"
   ]
  },
  {
   "cell_type": "code",
   "execution_count": 47,
   "metadata": {},
   "outputs": [
    {
     "name": "stdout",
     "output_type": "stream",
     "text": [
      "persian\n",
      "desi\n"
     ]
    }
   ],
   "source": [
    "billu = Cat()\n",
    "sheru = Cat()\n",
    "alice = Cat()\n",
    "tiger = Cat()\n",
    "print(billu.breed)\n",
    "#now the breed property is accesed form here\n",
    "billu.breed = 'desi'\n",
    "# now we can also modify the attribute of the billu\n",
    "print(billu.breed)"
   ]
  },
  {
   "cell_type": "markdown",
   "metadata": {},
   "source": [
    "# Constructors"
   ]
  },
  {
   "cell_type": "markdown",
   "metadata": {},
   "source": [
    "now in above cells we used the default constsructor without any argumment now we have to create other constructors \n",
    "constructors are the function that take arguments or no argument and initialize the atatributes of the calass very similar to java"
   ]
  },
  {
   "cell_type": "code",
   "execution_count": 48,
   "metadata": {},
   "outputs": [],
   "source": [
    "class mammal:\n",
    "    alive = \"yes\"\n",
    "    def __init__(self, alive):\n",
    "        mammal.alive = alive\n",
    "\n",
    "        "
   ]
  },
  {
   "cell_type": "code",
   "execution_count": 49,
   "metadata": {},
   "outputs": [],
   "source": [
    "a = mammal(\"dead\")"
   ]
  },
  {
   "cell_type": "markdown",
   "metadata": {},
   "source": [
    "# __init__\n",
    "in python constructor are named __init__ and it is a c++ function \n",
    "the __init__ constrctor takes self as an argumment too \n"
   ]
  },
  {
   "cell_type": "markdown",
   "metadata": {},
   "source": [
    "# Self\n",
    "in python the self works like this from java its compulsary to pass the self as the first variable in constructor and instance fucntions "
   ]
  },
  {
   "cell_type": "code",
   "execution_count": 50,
   "metadata": {},
   "outputs": [],
   "source": [
    "class Cat:\n",
    "    def __init__(self, breed, age,color='black'):\n",
    "        self.breed = breed\n",
    "        self.age = age\n",
    "        self.color = color"
   ]
  },
  {
   "cell_type": "code",
   "execution_count": 51,
   "metadata": {},
   "outputs": [],
   "source": [
    "billu = Cat('street', 5, \"blue\")\n",
    "sherru = Cat('persian', 2, \"gray\")\n",
    "alice = Cat('egyptian', 10)\n",
    "tiger = Cat('bengal', 13)"
   ]
  },
  {
   "cell_type": "code",
   "execution_count": 52,
   "metadata": {},
   "outputs": [
    {
     "name": "stdout",
     "output_type": "stream",
     "text": [
      "black\n"
     ]
    }
   ],
   "source": [
    "print(tiger.color)"
   ]
  },
  {
   "cell_type": "markdown",
   "metadata": {},
   "source": [
    "# inheritence\n",
    "in java ew use extent keyword after the class keyword in python we add the name of the base class in the square bracet\n",
    "example \n",
    "```\n",
    "class Dog(Animal):\n",
    "    pass\n",
    "```\n",
    "\n",
    "\n"
   ]
  },
  {
   "cell_type": "code",
   "execution_count": null,
   "metadata": {},
   "outputs": [],
   "source": []
  }
 ],
 "metadata": {
  "kernelspec": {
   "display_name": "base",
   "language": "python",
   "name": "python3"
  },
  "language_info": {
   "codemirror_mode": {
    "name": "ipython",
    "version": 3
   },
   "file_extension": ".py",
   "mimetype": "text/x-python",
   "name": "python",
   "nbconvert_exporter": "python",
   "pygments_lexer": "ipython3",
   "version": "3.10.10"
  },
  "orig_nbformat": 4
 },
 "nbformat": 4,
 "nbformat_minor": 2
}
