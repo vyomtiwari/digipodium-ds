{
 "cells": [
  {
   "cell_type": "code",
   "execution_count": 19,
   "metadata": {},
   "outputs": [],
   "source": [
    "name = input(\"Enter the name :\")\n",
    "city = input(\"enter the name of you city: \")\n"
   ]
  },
  {
   "cell_type": "code",
   "execution_count": 20,
   "metadata": {},
   "outputs": [],
   "source": [
    "age = int(input(\"enter your age:\"))"
   ]
  },
  {
   "cell_type": "code",
   "execution_count": 9,
   "metadata": {},
   "outputs": [
    {
     "name": "stdout",
     "output_type": "stream",
     "text": [
      "simple intrest 200.0\n"
     ]
    }
   ],
   "source": [
    "p = int(input(\"Enter the principle amount\"))\n",
    "t = int(input(\"enter the time in yrs\"))\n",
    "r = int(input(\"enter the rate pa\"))\n",
    "print(\"simple intrest:\",p*t*r/100)"
   ]
  },
  {
   "cell_type": "code",
   "execution_count": 13,
   "metadata": {},
   "outputs": [
    {
     "name": "stdout",
     "output_type": "stream",
     "text": [
      "simple intrest: 20 🤑\n"
     ]
    }
   ],
   "source": [
    "print(\"simple intrest:\",int(input(\"Enter the principle amount\"))*int(input(\"enter the time in yrs\"))*int(input(\"enter the rate pa\"))//100,\"🤑\")"
   ]
  },
  {
   "cell_type": "code",
   "execution_count": 1,
   "metadata": {},
   "outputs": [
    {
     "name": "stdout",
     "output_type": "stream",
     "text": [
      "hello\n",
      "world\n"
     ]
    }
   ],
   "source": [
    "name1 = \"hello\"\n",
    "sname = \"world\"\n",
    "print(name1,sname, sep = \"\\n\")"
   ]
  },
  {
   "cell_type": "code",
   "execution_count": 21,
   "metadata": {},
   "outputs": [
    {
     "name": "stdout",
     "output_type": "stream",
     "text": [
      "my name is vyom--world\n",
      "\n",
      "age is 56\n"
     ]
    }
   ],
   "source": [
    "\n",
    "print(\"my name is \"+name1,sname, sep = \"--\", end=\"\\n\\n\")\n",
    "print(\"age is 56\")"
   ]
  },
  {
   "cell_type": "code",
   "execution_count": 7,
   "metadata": {},
   "outputs": [
    {
     "name": "stdout",
     "output_type": "stream",
     "text": [
      "a + b = a+b\n",
      "500 + 200 = 700\n"
     ]
    }
   ],
   "source": [
    "#formatable string \n",
    "a = 500\n",
    "b = 200\n",
    "print(\"a + b = a+b\")\n",
    "print(f\"{a} + {b} = {a+b}\")"
   ]
  },
  {
   "cell_type": "code",
   "execution_count": 38,
   "metadata": {},
   "outputs": [
    {
     "name": "stdout",
     "output_type": "stream",
     "text": [
      "10/3 = 3\n",
      "10/3 = 3.33333\n",
      "3.3333333333333335\n",
      "3.33\n"
     ]
    }
   ],
   "source": [
    "#round off and decimal control\n",
    "a = 10\n",
    "b = 3\n",
    "c = a/b\n",
    "print(f\"{a}/{b} = {a//b}\")\n",
    "print(f\"{a}/{b} = {a/b:.5f}\")\n",
    "print(c)\n",
    "print(f\"{c:.2f}\")"
   ]
  },
  {
   "cell_type": "code",
   "execution_count": 29,
   "metadata": {},
   "outputs": [
    {
     "name": "stdout",
     "output_type": "stream",
     "text": [
      "name   vyom\n",
      "city   Lucknow\n",
      "age    21\n",
      "name      vyom\n",
      "city      Lucknow\n",
      "age in years21\n",
      "name                                     vyom\n",
      "city                                  Lucknow\n",
      "age in years                                 21\n",
      "name                     vyom                \n",
      "city                    Lucknow              \n",
      "age in years                21                 \n"
     ]
    }
   ],
   "source": [
    "#better readability and spacing\n",
    "print(f\"name   {name}\")\n",
    "print(f\"city   {city}\")\n",
    "print(f\"age    {age}\")\n",
    "#using : \n",
    "print(f\"{'name':10}{name}\")\n",
    "print(f\"{'city':10}{city}\")\n",
    "print(f\"{'age in years':10}{age}\")\n",
    "#right alingment\n",
    "print(f\"{'name':10}{name:>35}\")\n",
    "print(f\"{'city':10}{city:>35}\")\n",
    "print(f\"{'age in years':10}{age:>35}\")\n",
    "#center allingment uses ^\n",
    "print(f\"{'name':10}{name:^35}\")\n",
    "print(f\"{'city':10}{city:^35}\")\n",
    "print(f\"{'age in years':10}{age:^35}\")\n",
    "#we can use these in variables too "
   ]
  },
  {
   "cell_type": "code",
   "execution_count": 37,
   "metadata": {},
   "outputs": [
    {
     "name": "stdout",
     "output_type": "stream",
     "text": [
      "781.79\n"
     ]
    }
   ],
   "source": [
    "#pythagorus theorem\n",
    "base = float(input(\"enter the base\"))\n",
    "height = float(input(\"enter the height\"))\n",
    "print(f'{((base**2+height**2)**.5):.2f}')\n",
    "# print(((base**2+height**2)**.5):.2f)\n"
   ]
  },
  {
   "cell_type": "code",
   "execution_count": null,
   "metadata": {},
   "outputs": [],
   "source": []
  }
 ],
 "metadata": {
  "kernelspec": {
   "display_name": "base",
   "language": "python",
   "name": "python3"
  },
  "language_info": {
   "codemirror_mode": {
    "name": "ipython",
    "version": 3
   },
   "file_extension": ".py",
   "mimetype": "text/x-python",
   "name": "python",
   "nbconvert_exporter": "python",
   "pygments_lexer": "ipython3",
   "version": "3.10.10"
  },
  "orig_nbformat": 4
 },
 "nbformat": 4,
 "nbformat_minor": 2
}
