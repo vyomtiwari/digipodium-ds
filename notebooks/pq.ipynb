{
 "cells": [
  {
   "cell_type": "code",
   "execution_count": null,
   "metadata": {},
   "outputs": [],
   "source": [
    "# Write a program to print numbers from 1 to 10 using a for loop.\n",
    "for i in range(1, 11):\n",
    "    print(i)"
   ]
  },
  {
   "cell_type": "code",
   "execution_count": null,
   "metadata": {},
   "outputs": [],
   "source": [
    "# Write a program to print the multiplication table of a given number using a while loop.\n",
    "n = int(input('Enter the number to print table for :'))\n",
    "for i in range (1,11):\n",
    "    print(f'{n} X {i} = {n*i}')"
   ]
  },
  {
   "cell_type": "code",
   "execution_count": null,
   "metadata": {},
   "outputs": [],
   "source": [
    "# Write a program to find the sum of all even numbers between 1 and 100 using a for loop.\n",
    "\n",
    "sum=0\n",
    "for i in range(2,100,2):\n",
    "    sum += i\n",
    "print(sum)"
   ]
  },
  {
   "cell_type": "code",
   "execution_count": null,
   "metadata": {},
   "outputs": [],
   "source": [
    "#Write a program to check if a given number is prime or not using a while loop.\n",
    "n = int(input('enter the number you want to check'))\n",
    "a = int(n**(1/2))+1\n",
    "while(a>1):\n",
    "    if n%a == 0:\n",
    "        print('not prime the number is divisible by ',a)\n",
    "        break\n",
    "    a-=1\n",
    "    if(a==1):\n",
    "        print('prime')"
   ]
  },
  {
   "cell_type": "code",
   "execution_count": null,
   "metadata": {},
   "outputs": [],
   "source": [
    "# Write a program to calculate the factorial of a number using a for loop.\n",
    "n = int(input('enter the number you want to calculate factorial'))\n",
    "f =1\n",
    "if n >0:\n",
    "    for i in range (n,1,-1):\n",
    "     f*=i\n",
    "    print(f)\n",
    "    "
   ]
  },
  {
   "cell_type": "code",
   "execution_count": null,
   "metadata": {},
   "outputs": [],
   "source": [
    "# Write a program to print the Fibonacci series up to a given limit using a while loop.\n",
    "n = int(input('enter the limit of fibonacci series'))\n",
    "a = 1\n",
    "b = 0\n",
    "print('0 ',end='')\n",
    "while( a < n):\n",
    "    print('+',a,end=' ')\n",
    "    temp = a\n",
    "    a +=b\n",
    "    b = temp"
   ]
  },
  {
   "cell_type": "code",
   "execution_count": null,
   "metadata": {},
   "outputs": [],
   "source": [
    "#Write a program to find the largest element in an array using a for loop.\n",
    "a = [12,23,53,1,13,23,-12,342,123,532,34,999]\n",
    "for i in a:\n",
    "    max = i if i > max else max\n",
    "print(max)\n"
   ]
  },
  {
   "cell_type": "code",
   "execution_count": null,
   "metadata": {},
   "outputs": [],
   "source": [
    "# Write a program to reverse a given string using a while loop.\n",
    "s = 'iuqwaiurnvq qirqo qrhq '\n",
    "rs = ''\n",
    "while(s != ''):\n",
    "    rs+= s[-1]\n",
    "    s= s[:-1]\n",
    "print(rs)\n",
    "\n"
   ]
  },
  {
   "cell_type": "code",
   "execution_count": null,
   "metadata": {},
   "outputs": [],
   "source": [
    "#Write a program to print the ASCII values of all uppercase letters using a for loop.\n",
    "\n",
    "for a in range (ord('A'),ord('Z')):\n",
    "    print(a)"
   ]
  },
  {
   "cell_type": "code",
   "execution_count": null,
   "metadata": {},
   "outputs": [],
   "source": [
    "#Write a program to check if a given string is a palindrome using a while loop.\n",
    "stri = input('enter the string')\n",
    "stri = stri.strip()\n",
    "while(stri!=''):\n",
    "    s1 = stri[0]\n",
    "    s2 = stri[-1]\n",
    "    if(s1!=s2):\n",
    "        print('not a palindrome')\n",
    "        break\n",
    "    stri = stri[1:-1]\n",
    "else:\n",
    "    print('palindrome')"
   ]
  },
  {
   "cell_type": "code",
   "execution_count": null,
   "metadata": {},
   "outputs": [],
   "source": [
    "#Write a program to find the smallest element in an array using a while loop.\n",
    "a = [12,23,53,1,13,23,-12,342,123,532,34,999]\n",
    "min = float('inf')\n",
    "while(a):\n",
    "    min = a[-1] if a[-1]<min else min\n",
    "    a.pop()\n",
    "print(min)"
   ]
  },
  {
   "cell_type": "code",
   "execution_count": null,
   "metadata": {},
   "outputs": [],
   "source": [
    "# Write a program to calculate the average of a list of numbers using a for loop.\n",
    "a = [12,23,53,1,13,23,-12,342,123,532,34,999]\n",
    "sum =0\n",
    "for i in a:\n",
    "    sum += i\n",
    "print(sum//len(a))"
   ]
  },
  {
   "cell_type": "code",
   "execution_count": null,
   "metadata": {},
   "outputs": [],
   "source": [
    "# Write a program to calculate the sum of digits of a number using a for loop.\n",
    "n = int(input('enter the number'))\n",
    "n = str(n)\n",
    "s = 0\n",
    "for i in n:\n",
    "    s += int(i)\n",
    "print(s)\n",
    "    "
   ]
  },
  {
   "cell_type": "code",
   "execution_count": null,
   "metadata": {},
   "outputs": [],
   "source": [
    "# Write a program to check if a given year is a leap year using a while loop.\n",
    "n = int(input('enter the year'))\n",
    "while(n%4==0):\n",
    "    if n%400 ==0:\n",
    "        print('leap year')\n",
    "        break\n",
    "    elif n%100 ==0:\n",
    "        print('not a leap year')\n",
    "        break\n",
    "    else:\n",
    "        print('leap year')\n",
    "        break\n",
    "else:\n",
    "    print('not a leap year')\n"
   ]
  },
  {
   "cell_type": "code",
   "execution_count": null,
   "metadata": {},
   "outputs": [],
   "source": [
    "# Write a program to print the multiplication table of numbers from 1 to 5 using a for loop.\n",
    "for i in range (1,6):\n",
    "    for j in range(1,11):\n",
    "        print(f'{i} X {j} = {i*j}')\n",
    "    print('-----------\\n-----------')\n"
   ]
  },
  {
   "cell_type": "code",
   "execution_count": null,
   "metadata": {},
   "outputs": [],
   "source": [
    "# Write a program to find the factorial of a number using a while loop.\n",
    "n = int(input('enter the number'))\n",
    "f = 1\n",
    "while(n>1):\n",
    "    f*=n\n",
    "    n-=1\n",
    "print(f)\n",
    "    "
   ]
  },
  {
   "cell_type": "code",
   "execution_count": null,
   "metadata": {},
   "outputs": [],
   "source": [
    "# Write a program to count the number of vowels in a given string using a for loop.\n",
    "s = input('enter the string')\n",
    "c = 0\n",
    "for i in s.lower():\n",
    "    if i in 'aeiou':\n",
    "        c+=1\n",
    "print(c)"
   ]
  },
  {
   "cell_type": "markdown",
   "metadata": {},
   "source": [
    "# string"
   ]
  },
  {
   "cell_type": "markdown",
   "metadata": {},
   "source": [
    "\n",
    "\n",
    "\n",
    "Print this string to move to newline '\\n' is used. (results should look exactly like the provided string)\n",
    "Print a variable with some text using a single print function, output should look like following.\n",
    "the variable is 15\n",
    "concatenate the following strings and print the result\n",
    "s1 = 'python '\n",
    "s2 = 'is '\n",
    "s3 = 'great.'\n",
    "Print # 20 times without using a loop\n",
    "Print numbers from 1 to 9, each on a seperate line, followed by a dot, output should look like the following-\n",
    "1.\n",
    "2.\n",
    "3.\n",
    "\n",
    "Ask user to input a sentence and print each word on a different line.\n",
    "Ask user to input a string and check if the string ends with '?'\n",
    "Ask user to input a string and print how many times e appeared in the string\n",
    "Check if the user input is a number.\n",
    "Remove the extra spaces in beginning and in the end of the following string-\n",
    "text = '   this is not a good string           '\n",
    "Ask user to input string, print found if any of the character is upper case.\n",
    "Extract names from the following string and store them in a list.\n",
    "names = 'Joe, David, Mark, Tom, Chris, Robert'\n",
    "In the following string, add aye in the end of every word and print the results.\n",
    "text = 'this is some text'\n",
    "ask user to enter a string and check if the string contains fyi\n",
    "Remove all the special characters and numbers from the following string\n",
    "text = '%p34@y!*-*!t68h#&on404'\n",
    "calculate the average word length of the following paragraph.\n"
   ]
  },
  {
   "cell_type": "code",
   "execution_count": null,
   "metadata": {},
   "outputs": [],
   "source": [
    "s = \"heloo how are you\"\n",
    "s = s.split()\n",
    "for i in s:\n",
    "    print(i)"
   ]
  },
  {
   "cell_type": "code",
   "execution_count": null,
   "metadata": {},
   "outputs": [],
   "source": [
    "s = \"hello world\"\n",
    "s = s[-1::-1]\n",
    "print(s)"
   ]
  },
  {
   "cell_type": "code",
   "execution_count": null,
   "metadata": {},
   "outputs": [],
   "source": [
    "words = ['Python', 'is', 'easy', 'to', 'learn']\n",
    "s = ''\n",
    "for i in words:\n",
    "    s = s+' '+i\n",
    "print(s)"
   ]
  },
  {
   "cell_type": "code",
   "execution_count": null,
   "metadata": {},
   "outputs": [],
   "source": [
    "print('''hello my name is vyom\n",
    "i am on a journey to change my life\n",
    "will you join me''')"
   ]
  },
  {
   "cell_type": "code",
   "execution_count": null,
   "metadata": {},
   "outputs": [],
   "source": [
    "print('#'*20)"
   ]
  },
  {
   "cell_type": "code",
   "execution_count": null,
   "metadata": {},
   "outputs": [],
   "source": [
    "for i in range (1,10):\n",
    "    print(f'{i}.')"
   ]
  },
  {
   "cell_type": "code",
   "execution_count": null,
   "metadata": {},
   "outputs": [],
   "source": [
    "print(s.count('a'))"
   ]
  },
  {
   "cell_type": "code",
   "execution_count": null,
   "metadata": {},
   "outputs": [],
   "source": [
    "i = input('enter the string')\n",
    "if(i.isnumeric()):\n",
    "    print('yes')\n",
    "else:\n",
    "    print('no')"
   ]
  },
  {
   "cell_type": "code",
   "execution_count": null,
   "metadata": {},
   "outputs": [],
   "source": [
    "text = '   this is not a good string           '\n",
    "\n",
    "text= text.strip()"
   ]
  },
  {
   "cell_type": "code",
   "execution_count": null,
   "metadata": {},
   "outputs": [],
   "source": [
    "i = input('enter the string')\n",
    "for j in i:\n",
    "    if( j.isupper()):\n",
    "        print('found')\n",
    "        break\n"
   ]
  },
  {
   "cell_type": "code",
   "execution_count": null,
   "metadata": {},
   "outputs": [],
   "source": [
    "names = 'Joe, David, Mark, Tom, Chris, Robert'\n",
    "n = names.split(',')\n",
    "n = list(map(str.strip,n))\n",
    "n\n",
    "\n"
   ]
  },
  {
   "cell_type": "code",
   "execution_count": null,
   "metadata": {},
   "outputs": [],
   "source": [
    "names = 'Joe, David, Mark, Tom, Chris, Robert'\n",
    "n = names.split(',')\n",
    "striped = list([str.strip(i) for i in n])\n",
    "for i in striped:\n",
    "    print(i)\n"
   ]
  },
  {
   "cell_type": "code",
   "execution_count": null,
   "metadata": {},
   "outputs": [],
   "source": [
    "text = 'this is some text'\n",
    "text.replace(' ','aye ')+'aye'"
   ]
  },
  {
   "cell_type": "code",
   "execution_count": 1,
   "metadata": {},
   "outputs": [
    {
     "data": {
      "text/plain": [
       "'%p34@y!*-*!t68h#&on404'"
      ]
     },
     "execution_count": 1,
     "metadata": {},
     "output_type": "execute_result"
    }
   ],
   "source": [
    "text = '%p34@y!*-*!t68h#&on404'\n",
    "for i in text:\n",
    "    if not(i.isalnum):\n",
    "        text = text.remove(i,1)\n",
    "text\n",
    "        "
   ]
  },
  {
   "cell_type": "code",
   "execution_count": 5,
   "metadata": {},
   "outputs": [
    {
     "name": "stdout",
     "output_type": "stream",
     "text": [
      "4.64\n"
     ]
    }
   ],
   "source": [
    "s = 'this is a paragraph which is written just for the purpose of providing content to let the average word length be calculated'\n",
    "l = s.split()\n",
    "t =0\n",
    "for i in l:\n",
    "    t += len(i)\n",
    "print(f'{t/len(l):.2f}')"
   ]
  },
  {
   "cell_type": "markdown",
   "metadata": {},
   "source": [
    "# Lists\n",
    "- Write a program that creates two lists of integers and then finds the common elements between those two lists. Print the common elements.\n",
    "- Write a program that creates a list of strings and then removes all elements that contain a specific substring. Print the final list.\n",
    "- Write a program that creates a nested list and then accesses a specific element in the list. Print the accessed element.\n",
    "- Write a program that creates a list of integers and then removes all duplicates from the list. Print the final list.\n",
    "- Write a program that creates a list of strings and then finds the longest string in the list. Print the longest string.\n",
    "- Write a program that creates a list of integers and then finds the sum of all the even numbers in the list. Print the sum.\n",
    "- Write a program that creates a list of integers and then asks the user to input a position to remove an element from the list. Print the final list.\n",
    "- Write a program that creates a list of strings and then concatenates all the strings into a single string. Print the final string.\n",
    "- Write a program that creates a list of integers and then finds the median value of the list. Print the median.\n",
    "- Write a program that creates a list of strings and then reverses the order of the strings in the list. Print the reversed list.\n",
    "- Write a program that creates a list of integers and then calculates the average of all the numbers in the list. Print the average.\n",
    "- Write a program that creates a list of integers and then finds the index of a specific element in the list. Print the index.\n",
    "- Write a program that creates a list of strings and then removes all whitespace characters from each string in the list. Print the final list.\n",
    "- Write a program that creates a list of integers and then sorts the list in descending order. Print the sorted list.\n",
    "- Write a program that creates a list of integers and then asks the user to input a value to add to the list. Add the value to the beginning of the list and print the final list.\n",
    "- Write a program that creates two lists of integers and then concatenates those two lists into a single list. Print the final list.\n",
    "- Write a program that uses the map function to create a new list that contains the squares of each element in a user inputted list of integers.\n",
    "- Write a program that uses a lambda expression and the map function to convert a list of integers to a list of strings. Print the new list.\n",
    "- Write a program that uses a lambda expression and the map function to add 10 to each element in a list of integers. Print the new list.\n",
    "- Write a program that uses the map function to create a new list that contains the first letter of each string in a user inputted list of strings.\n",
    "- Write a program that uses a lambda expression and the map function to convert a list of Celsius temperatures to a list of Fahrenheit temperatures. Print the new list.\n",
    "- Write a program that uses a lambda expression and the map function to convert a list of strings to a list of integers. Print the new list.\n",
    "- Write a program that uses the map function to create a new list that contains the length of each string in a user inputted list of strings.\n",
    "- Write a program that uses a lambda expression and the map function to calculate the square root of each element in a list of integers. Print the new list.\n",
    "- Write a program that uses a lambda expression and the map function to convert a list of integers to their absolute values. Print the new list.\n",
    "- Write a program that uses the map function to create a new list that contains the uppercase version of each string in a user inputted list of strings.\n",
    "- Write a program that uses the filter function to create a new list that contains only the even numbers from a user inputted list of integers.\n",
    "- Write a program that uses a lambda expression and the filter function to create a new list that contains only the strings that start with a vowel from a user inputted list of strings.\n",
    "- Write a program that uses the filter function to create a new list that contains only the strings with a length greater than 5 from a user inputted list of strings.\n",
    "- Write a program that uses a lambda expression and the filter function to create a new list that contains only the positive numbers from a user inputted list of integers.\n",
    "- Write a program that uses the filter function to create a new list that contains only the strings that contain the letter \"e\" from a user inputted list of strings.\n",
    "- Write a program that creates a nested list from two user inputted lists of integers. The resulting nested list should contain each element of the first list paired with the corresponding element of the second list.\n",
    "```\n",
    "Example input: [1, 2, 3], [4, 5, 6]\n",
    "Example output: [[1, 4], [2, 5], [3, 6]]\n",
    "```\n",
    "- Write a program that creates a nested list of strings from a user inputted list of strings. The resulting nested list should contain each string split into its individual characters.\n",
    "```\n",
    "Example input: ['hello', 'world']\n",
    "Example output: [['h', 'e', 'l', 'l', 'o'], ['w', 'o', 'r', 'l', 'd']]\n",
    "```\n",
    "- Write a program that creates a nested list of integers from a user inputted list of integers. The resulting nested list should contain each integer along with its square.\n",
    "```\n",
    "Example input: [1, 2, 3, 4, 5]\n",
    "Example output: [[1, 1], [2, 4], [3, 9], [4, 16], [5, 25]]\n",
    "```\n",
    "- Write a program that creates a nested list from a user inputted list of strings. The resulting nested list should contain the unique characters from each string.\n",
    "```\n",
    "Example input: ['apple', 'banana', 'cherry']\n",
    "Example output: [['a', 'p', 'l', 'e'], ['b', 'a', 'n'], ['c', 'h', 'e', 'r', 'y']]\n",
    "```\n",
    "- Write a program that creates a nested list of integers from a user inputted list of integers. The resulting nested list should contain each integer along with all of its divisors.\n",
    "```\n",
    "Example input: [2, 3, 4, 5]\n",
    "Example output: [[2, [1, 2]], [3, [1, 3]], [4, [1, 2, 4]], [5, [1, 5]]]\n",
    "```\n",
    "\n",
    "---\n",
    "- You are given a list of integers, nums. Write a function, reverse_list(nums), that takes the list as input and returns a new list that is the reverse of the original list.\n",
    "**Function signature**\n",
    "```python\n",
    "def reverse_list(nums: List[int]) -> List[int]\n",
    "```\n",
    "**inputs:**\n",
    "- A list of integers, nums (1 <= len(nums) <= 1000)\n",
    "**output:**\n",
    "- A new list that is the reverse of `nums`\n",
    "\n",
    "*Example:*\n",
    "```\n",
    "Input: nums = [1, 2, 3, 4, 5]\n",
    "Output: [5, 4, 3, 2, 1]\n",
    "\n",
    "Input: nums = [7, 6, 5, 4]\n",
    "Output: [4, 5, 6, 7]\n",
    "```\n",
    "\n",
    "*Note:*\n",
    "You are not allowed to use any built-in Python functions or methods that directly reverse a list. Your function must return a new list that is the reverse of the original list using only standard Python list manipulation techniques. Your function should have a time complexity of O(n) and a space complexity of O(n).\n",
    "\n",
    "---"
   ]
  },
  {
   "cell_type": "code",
   "execution_count": 6,
   "metadata": {},
   "outputs": [
    {
     "data": {
      "text/plain": [
       "['sr', 'argqr', 'afa', '234', 'q4a']"
      ]
     },
     "execution_count": 6,
     "metadata": {},
     "output_type": "execute_result"
    }
   ],
   "source": [
    "list1 = []\n",
    "for i in range (5):\n",
    "    list1.append(input(f'enter the {i}entry'))\n",
    "list1"
   ]
  },
  {
   "cell_type": "code",
   "execution_count": 31,
   "metadata": {},
   "outputs": [
    {
     "name": "stdout",
     "output_type": "stream",
     "text": [
      "not found\n"
     ]
    }
   ],
   "source": [
    "list2 = [23,43125,1234,13,553,21,34,5,321,34123,5321,57,479,54,46,2,245246,768,79,0,673,5245,246,576,43345,7]\n",
    "i = int(input())\n",
    "if i in list2:\n",
    "    print('found')\n",
    "else: \n",
    "    print('not found')"
   ]
  },
  {
   "cell_type": "code",
   "execution_count": 15,
   "metadata": {},
   "outputs": [
    {
     "name": "stdout",
     "output_type": "stream",
     "text": [
      "['234', 'afa', 'argqr', 'q4a', 'sr']\n"
     ]
    },
    {
     "data": {
      "text/plain": [
       "245246"
      ]
     },
     "execution_count": 15,
     "metadata": {},
     "output_type": "execute_result"
    }
   ],
   "source": [
    "list1.sort()\n",
    "print(list1)\n",
    "max(list2)\n"
   ]
  },
  {
   "cell_type": "code",
   "execution_count": 21,
   "metadata": {},
   "outputs": [
    {
     "data": {
      "text/plain": [
       "'You are  allowed to use any built-in Python functions or methods that directly reverse a list. Your function must return a new list that is the reverse of the original list using only standard Python list manipulation techniques. Your function should have a time complexity of O(n) and a space complexity of O(n).'"
      ]
     },
     "execution_count": 21,
     "metadata": {},
     "output_type": "execute_result"
    }
   ],
   "source": [
    "st ='''You are not allowed to use any built-in Python functions or methods that directly reverse a list. Your function must return a new list that is the reverse of the original list using only standard Python list manipulation techniques. Your function should have a time complexity of O(n) and a space complexity of O(n).'''\n",
    "li = st.split()\n",
    "for i in li:\n",
    "    if \"no\" in i:\n",
    "        st =st.replace(i,\"\")\n",
    "st"
   ]
  },
  {
   "cell_type": "code",
   "execution_count": 25,
   "metadata": {},
   "outputs": [
    {
     "data": {
      "text/plain": [
       "[['ewar'], [], []]"
      ]
     },
     "execution_count": 25,
     "metadata": {},
     "output_type": "execute_result"
    }
   ],
   "source": [
    "listo = [[],[],[]]\n",
    "listo[0].append('ewar')\n",
    "listo"
   ]
  },
  {
   "cell_type": "code",
   "execution_count": 32,
   "metadata": {},
   "outputs": [
    {
     "name": "stdout",
     "output_type": "stream",
     "text": [
      "[768, 0, 2, 5, 7, 13, 21, 23, 673, 34, 553, 46, 54, 57, 576, 321, 5321, 34123, 79, 43345, 1234, 479, 43125, 246, 5245, 245246]\n"
     ]
    }
   ],
   "source": [
    "list2=set(list2)\n",
    "list2 = list(list2)\n",
    "print(list2)"
   ]
  }
 ],
 "metadata": {
  "kernelspec": {
   "display_name": "base",
   "language": "python",
   "name": "python3"
  },
  "language_info": {
   "codemirror_mode": {
    "name": "ipython",
    "version": 3
   },
   "file_extension": ".py",
   "mimetype": "text/x-python",
   "name": "python",
   "nbconvert_exporter": "python",
   "pygments_lexer": "ipython3",
   "version": "3.10.10"
  },
  "orig_nbformat": 4
 },
 "nbformat": 4,
 "nbformat_minor": 2
}
