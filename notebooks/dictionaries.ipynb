{
 "cells": [
  {
   "cell_type": "code",
   "execution_count": 1,
   "metadata": {},
   "outputs": [],
   "source": [
    "raju = {\n",
    "    'first name' : 'Raju',\n",
    "    'last name' : 'Kumar',\n",
    "    'age' : 25,\n",
    "    'address' : {'house no.': 420,'street':'hera pheri','city':\"Bambai\", 'state':'jai mahrasthraa'}\n",
    "}"
   ]
  },
  {
   "cell_type": "code",
   "execution_count": 59,
   "metadata": {},
   "outputs": [
    {
     "data": {
      "text/plain": [
       "'Raju'"
      ]
     },
     "execution_count": 59,
     "metadata": {},
     "output_type": "execute_result"
    }
   ],
   "source": [
    "raju['first name']"
   ]
  },
  {
   "cell_type": "code",
   "execution_count": 60,
   "metadata": {},
   "outputs": [
    {
     "data": {
      "text/plain": [
       "'Bambai'"
      ]
     },
     "execution_count": 60,
     "metadata": {},
     "output_type": "execute_result"
    }
   ],
   "source": [
    "raju['address']['city']"
   ]
  },
  {
   "cell_type": "code",
   "execution_count": 61,
   "metadata": {},
   "outputs": [
    {
     "data": {
      "text/plain": [
       "'Raju'"
      ]
     },
     "execution_count": 61,
     "metadata": {},
     "output_type": "execute_result"
    }
   ],
   "source": [
    "raju.get('first name')"
   ]
  },
  {
   "cell_type": "code",
   "execution_count": 62,
   "metadata": {},
   "outputs": [
    {
     "name": "stdout",
     "output_type": "stream",
     "text": [
      "None\n"
     ]
    }
   ],
   "source": [
    "print(raju.get('middle name'))"
   ]
  },
  {
   "cell_type": "code",
   "execution_count": 63,
   "metadata": {},
   "outputs": [
    {
     "name": "stdout",
     "output_type": "stream",
     "text": [
      "0\n"
     ]
    }
   ],
   "source": [
    "print(raju.get('somethingg',00))"
   ]
  },
  {
   "cell_type": "code",
   "execution_count": 64,
   "metadata": {},
   "outputs": [
    {
     "name": "stdout",
     "output_type": "stream",
     "text": [
      "dict_keys(['first name', 'last name', 'age', 'address'])\n"
     ]
    }
   ],
   "source": [
    "print(raju.keys())"
   ]
  },
  {
   "cell_type": "code",
   "execution_count": 65,
   "metadata": {},
   "outputs": [],
   "source": [
    "# adding the entries\n",
    "raju['middle name'] = 'aee'\n",
    "raju['address']['country'] = 'bharat'"
   ]
  },
  {
   "cell_type": "code",
   "execution_count": 66,
   "metadata": {},
   "outputs": [],
   "source": [
    "# modifying the entries\n",
    "raju['first name'] = 'Mr. Raju'"
   ]
  },
  {
   "cell_type": "code",
   "execution_count": 67,
   "metadata": {},
   "outputs": [
    {
     "data": {
      "text/plain": [
       "'bharat'"
      ]
     },
     "execution_count": 67,
     "metadata": {},
     "output_type": "execute_result"
    }
   ],
   "source": [
    "# removing the entries \n",
    "# there is only pop function in the dictionaries and pop gives the entry as output\n",
    "raju['address'].pop('country')"
   ]
  },
  {
   "cell_type": "code",
   "execution_count": 68,
   "metadata": {},
   "outputs": [
    {
     "name": "stdout",
     "output_type": "stream",
     "text": [
      "dict_keys(['first name', 'last name', 'age', 'address', 'middle name'])\n"
     ]
    }
   ],
   "source": [
    "#list all keys\n",
    "print(raju.keys())"
   ]
  },
  {
   "cell_type": "code",
   "execution_count": 69,
   "metadata": {},
   "outputs": [
    {
     "name": "stdout",
     "output_type": "stream",
     "text": [
      "dict_values(['Mr. Raju', 'Kumar', 25, {'house no.': 420, 'street': 'hera pheri', 'city': 'Bambai', 'state': 'jai mahrasthra'}, 'aee'])\n"
     ]
    }
   ],
   "source": [
    "#list all values\n",
    "print(raju.values())"
   ]
  },
  {
   "cell_type": "code",
   "execution_count": 70,
   "metadata": {},
   "outputs": [
    {
     "name": "stdout",
     "output_type": "stream",
     "text": [
      "dict_items([('first name', 'Mr. Raju'), ('last name', 'Kumar'), ('age', 25), ('address', {'house no.': 420, 'street': 'hera pheri', 'city': 'Bambai', 'state': 'jai mahrasthra'}), ('middle name', 'aee')])\n"
     ]
    }
   ],
   "source": [
    "#list all key value pair\n",
    "print(raju.items())"
   ]
  },
  {
   "cell_type": "code",
   "execution_count": 71,
   "metadata": {},
   "outputs": [
    {
     "name": "stdout",
     "output_type": "stream",
     "text": [
      "first name\n",
      "Mr. Raju\n",
      "last name\n",
      "Kumar\n",
      "age\n",
      "25\n",
      "address\n",
      "{'house no.': 420, 'street': 'hera pheri', 'city': 'Bambai', 'state': 'jai mahrasthra'}\n",
      "middle name\n",
      "aee\n"
     ]
    }
   ],
   "source": [
    "for a in raju:\n",
    "    print(a)\n",
    "    print(raju[a])"
   ]
  },
  {
   "cell_type": "code",
   "execution_count": 72,
   "metadata": {},
   "outputs": [
    {
     "name": "stdout",
     "output_type": "stream",
     "text": [
      "Mr. Raju\n",
      "Kumar\n",
      "25\n",
      "{'house no.': 420, 'street': 'hera pheri', 'city': 'Bambai', 'state': 'jai mahrasthra'}\n",
      "aee\n"
     ]
    }
   ],
   "source": [
    "for k in raju.values():\n",
    "    print(k)"
   ]
  },
  {
   "cell_type": "code",
   "execution_count": 74,
   "metadata": {},
   "outputs": [
    {
     "data": {
      "text/plain": [
       "dict_keys(['house no.', 'street', 'city', 'state'])"
      ]
     },
     "execution_count": 74,
     "metadata": {},
     "output_type": "execute_result"
    }
   ],
   "source": [
    "raju['address'].keys()"
   ]
  },
  {
   "cell_type": "code",
   "execution_count": 77,
   "metadata": {},
   "outputs": [],
   "source": [
    "# create a dictionay of 5 emplouyees of account dept in a ACME company\n",
    "acme = {\n",
    "    'accounts' : { }\n",
    "}\n",
    "for i in range(5):\n",
    "    name = input('enter the name')\n",
    "    desig = input('enter the degsignation')\n",
    "    sal = input('enter the salary')\n",
    "    acme['accounts'][f'emp{i}']={\n",
    "        'name' : name,\n",
    "        'designation' : desig,\n",
    "        'salary' : sal\n",
    "    }\n"
   ]
  },
  {
   "cell_type": "code",
   "execution_count": 78,
   "metadata": {},
   "outputs": [],
   "source": [
    "from pprint import pp"
   ]
  },
  {
   "cell_type": "code",
   "execution_count": 83,
   "metadata": {},
   "outputs": [
    {
     "name": "stdout",
     "output_type": "stream",
     "text": [
      "{'emp0': {'name': 'henery', 'designation': 'engineer', 'salary': '50000'},\n",
      " 'emp1': {'name': 'henery V ',\n",
      "          'designation': 'senior engineer',\n",
      "          'salary': '70000'},\n",
      " 'emp2': {'name': 'king henery', 'designation': 'clerk', 'salary': '400009'},\n",
      " 'emp3': {'name': 'messi', 'designation': 'player', 'salary': '80000000'},\n",
      " 'emp4': {'name': 'ronaldo ', 'designation': 'strinker', 'salary': '100000'}}\n"
     ]
    }
   ],
   "source": [
    "pp(acme['accounts'])"
   ]
  },
  {
   "cell_type": "code",
   "execution_count": 93,
   "metadata": {},
   "outputs": [
    {
     "name": "stdout",
     "output_type": "stream",
     "text": [
      "80620009\n"
     ]
    }
   ],
   "source": [
    "total = 0\n",
    "for v in acme['accounts'].values():\n",
    "    total += int(v['salary'])\n",
    "print(total)"
   ]
  },
  {
   "cell_type": "code",
   "execution_count": 94,
   "metadata": {},
   "outputs": [],
   "source": [
    "# create a contact dictionary and \n",
    "# let user check if a contact exists\n",
    "# if yes then pirnt the contact  details \n",
    "# if no ask yser to add the contacts"
   ]
  },
  {
   "cell_type": "code",
   "execution_count": 100,
   "metadata": {},
   "outputs": [],
   "source": [
    "contacts = {'Police': 112}"
   ]
  },
  {
   "cell_type": "code",
   "execution_count": 106,
   "metadata": {},
   "outputs": [
    {
     "name": "stdout",
     "output_type": "stream",
     "text": [
      "the contact was not found \n",
      "enter the number to be saved under vyom or \"exit\" to exit the portal\n",
      "✅done\n",
      "the contact was not found \n",
      "enter the number to be saved under exit or \"exit\" to exit the portal\n"
     ]
    }
   ],
   "source": [
    "while True:\n",
    "    name = input(\"enter the name you want to search\")\n",
    "    if name in contacts:\n",
    "        print(\"✅found the contact\")\n",
    "        print(name+':',contacts[name])\n",
    "        break\n",
    "    else:\n",
    "        print('the contact was not found ')\n",
    "        number = input(print(f'enter the number to be saved under {name} or \"exit\" to exit the portal'))\n",
    "        if number.lower() == \"exit\":\n",
    "            break\n",
    "        else:\n",
    "            contacts[name] = number\n",
    "            print('✅done')\n",
    "            break\n"
   ]
  },
  {
   "cell_type": "code",
   "execution_count": null,
   "metadata": {},
   "outputs": [],
   "source": []
  }
 ],
 "metadata": {
  "kernelspec": {
   "display_name": "base",
   "language": "python",
   "name": "python3"
  },
  "language_info": {
   "codemirror_mode": {
    "name": "ipython",
    "version": 3
   },
   "file_extension": ".py",
   "mimetype": "text/x-python",
   "name": "python",
   "nbconvert_exporter": "python",
   "pygments_lexer": "ipython3",
   "version": "3.10.10"
  },
  "orig_nbformat": 4
 },
 "nbformat": 4,
 "nbformat_minor": 2
}
