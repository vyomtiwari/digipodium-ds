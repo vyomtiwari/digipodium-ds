{
 "cells": [
  {
   "cell_type": "code",
   "execution_count": 6,
   "metadata": {},
   "outputs": [
    {
     "name": "stdout",
     "output_type": "stream",
     "text": [
      "['hi', 'there', 'how', 'are', 'you']\n"
     ]
    }
   ],
   "source": [
    "#join in strings\n",
    "lis = [\"hi\", \"there\",\"how\" ,\"are\" ,\"you\"]\n",
    "print(lis)"
   ]
  },
  {
   "cell_type": "code",
   "execution_count": 7,
   "metadata": {},
   "outputs": [
    {
     "name": "stdout",
     "output_type": "stream",
     "text": [
      "hi there how are you\n"
     ]
    }
   ],
   "source": [
    "# now we can join these entries in the string using a glue character and join function\n",
    "print(\" \".join(lis))"
   ]
  },
  {
   "cell_type": "code",
   "execution_count": 20,
   "metadata": {},
   "outputs": [],
   "source": [
    "poem = '''Johnny Johnny, yes papa\n",
    "eating sugar, no papa\n",
    "telling a lie, no papa\n",
    "open your mouth, haha'''\n",
    "poemlist  = poem.split(\" \"or\"\\n\")\n",
    "# poemlist = poem.splitlines()\n"
   ]
  },
  {
   "cell_type": "code",
   "execution_count": 21,
   "metadata": {},
   "outputs": [
    {
     "name": "stdout",
     "output_type": "stream",
     "text": [
      "['Johnny', 'Johnny,', 'yes', 'papa\\neating', 'sugar,', 'no', 'papa\\ntelling', 'a', 'lie,', 'no', 'papa\\nopen', 'your', 'mouth,', 'haha']\n",
      "2\n",
      "1\n"
     ]
    }
   ],
   "source": [
    "print(poemlist)\n",
    "print(poem.count(\"Johnny\"))\n",
    "print(poemlist.count(\"Johnny\"))"
   ]
  },
  {
   "cell_type": "code",
   "execution_count": 22,
   "metadata": {},
   "outputs": [
    {
     "name": "stdout",
     "output_type": "stream",
     "text": [
      "vyom tiwari\n",
      "vyom tiwar\n"
     ]
    }
   ],
   "source": [
    "#strip function\n",
    "username = input('enter the username')\n",
    "username = username.strip()\n",
    "print(username)\n",
    "username = username.strip(\"ti\")\n",
    "print(username)"
   ]
  },
  {
   "attachments": {},
   "cell_type": "markdown",
   "metadata": {},
   "source": [
    "strip function \n",
    "this function checks the string startin and end of the string\n",
    "in strip if ther is no variable in the function parameter then it removes white spaces in begining and end\n",
    "if there is parameter in the function then it remove the characters in it or the character sequence if present"
   ]
  },
  {
   "cell_type": "code",
   "execution_count": 26,
   "metadata": {},
   "outputs": [
    {
     "name": "stdout",
     "output_type": "stream",
     "text": [
      "g ing and ing ing\n"
     ]
    }
   ],
   "source": [
    "str = \"ing ing and ing ing\"\n",
    "print(str.strip(\"in\"))"
   ]
  }
 ],
 "metadata": {
  "kernelspec": {
   "display_name": "base",
   "language": "python",
   "name": "python3"
  },
  "language_info": {
   "codemirror_mode": {
    "name": "ipython",
    "version": 3
   },
   "file_extension": ".py",
   "mimetype": "text/x-python",
   "name": "python",
   "nbconvert_exporter": "python",
   "pygments_lexer": "ipython3",
   "version": "3.10.10"
  },
  "orig_nbformat": 4
 },
 "nbformat": 4,
 "nbformat_minor": 2
}
