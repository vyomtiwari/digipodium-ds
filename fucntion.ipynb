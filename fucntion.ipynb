{
 "cells": [
  {
   "cell_type": "markdown",
   "metadata": {},
   "source": [
    "## programming functions\n",
    "- predefined funtions\n",
    "    - standard library functions\n",
    "        - the functions that come with python like jdk for java\n",
    "    - library (modules) functions \n",
    "        - preinstalled library\n",
    "            - for example \n",
    "                - os\n",
    "                - math\n",
    "                - random\n",
    "                - datetime \n",
    "        - *third party library*\n",
    "            - install with pip\n",
    "                - `pip install <package-name>`\n",
    "                - `pip show <package-name>`\n",
    "            - install with conda\n",
    "                - `conda install <repo> <package-name>`\n",
    "\n",
    "- **user defined function**\n",
    "    - functions with name\n",
    "        - functions without parameters and return value\n",
    "        - functions with return value but no parameter\n",
    "        - functions with parameter but no return value\n",
    "            - required parameter\n",
    "            - default parameter\n",
    "            - named parameter\n",
    "            - variable parameter\n",
    "            - keyword variable parameter\n",
    "        - funcitons with parameter and return value\n",
    "        - generators\n",
    "    - functions without name \n",
    "        - *lambda functions* (anonymous functions)\n",
    "\n"
   ]
  },
  {
   "cell_type": "code",
   "execution_count": null,
   "metadata": {},
   "outputs": [],
   "source": [
    "import math"
   ]
  },
  {
   "cell_type": "code",
   "execution_count": null,
   "metadata": {},
   "outputs": [],
   "source": [
    "import os\n",
    "help(os.listdir)"
   ]
  },
  {
   "cell_type": "code",
   "execution_count": null,
   "metadata": {},
   "outputs": [],
   "source": [
    "def si(p, r, t):\n",
    "    ans = p * r * t /100\n",
    "    print(f'the simple intrest is {ans:.2f}')\n",
    "si(100, 30, 6)"
   ]
  },
  {
   "cell_type": "code",
   "execution_count": null,
   "metadata": {},
   "outputs": [],
   "source": [
    "def prime(n):\n",
    "    a = int(n**(1/2))+1\n",
    "    for i in range(a,1,-1):\n",
    "        if n%i == 0:\n",
    "            print('not prime the number is divisible by ',i)\n",
    "            break\n",
    "    else:\n",
    "        print('prime')"
   ]
  },
  {
   "cell_type": "code",
   "execution_count": null,
   "metadata": {},
   "outputs": [],
   "source": [
    "prime(8)"
   ]
  },
  {
   "cell_type": "code",
   "execution_count": 2,
   "metadata": {},
   "outputs": [],
   "source": [
    "def hypotenuse(p=5, b =1 ):#here the default values are set but defqlut are declare from right hand side\n",
    "    h = (p**2 + b**2)** 0.5\n",
    "    print(h)\n"
   ]
  },
  {
   "cell_type": "code",
   "execution_count": 3,
   "metadata": {},
   "outputs": [
    {
     "name": "stdout",
     "output_type": "stream",
     "text": [
      "5.0990195135927845\n",
      "5.0990195135927845\n",
      "5.385164807134504\n",
      "5.385164807134504\n",
      "5.385164807134504\n"
     ]
    }
   ],
   "source": [
    "hypotenuse()\n",
    "hypotenuse(5)\n",
    "hypotenuse(5,2) #unnamed argument\n",
    "hypotenuse(p = 5, b = 2)\n",
    "hypotenuse(b = 2, p = 5)#named argument"
   ]
  },
  {
   "cell_type": "code",
   "execution_count": 7,
   "metadata": {},
   "outputs": [],
   "source": [
    "def aggregator(*num , operator = 'add'):\n",
    "    if operator == 'add':\n",
    "        ans = 0\n",
    "        for i in num :\n",
    "            ans+=i\n",
    "    elif operator == 'mul':\n",
    "        ans = 1\n",
    "        for i in num :\n",
    "            ans*=i\n",
    "        print(ans)\n",
    "    else:\n",
    "        print('invalud operator')\n",
    "    \n"
   ]
  },
  {
   "cell_type": "code",
   "execution_count": 8,
   "metadata": {},
   "outputs": [
    {
     "name": "stdout",
     "output_type": "stream",
     "text": [
      "618241207500\n"
     ]
    }
   ],
   "source": [
    "aggregator(1,3,25,5,2,3,6,6321,21,345,operator='mul')"
   ]
  }
 ],
 "metadata": {
  "kernelspec": {
   "display_name": "base",
   "language": "python",
   "name": "python3"
  },
  "language_info": {
   "codemirror_mode": {
    "name": "ipython",
    "version": 3
   },
   "file_extension": ".py",
   "mimetype": "text/x-python",
   "name": "python",
   "nbconvert_exporter": "python",
   "pygments_lexer": "ipython3",
   "version": "3.10.10"
  },
  "orig_nbformat": 4
 },
 "nbformat": 4,
 "nbformat_minor": 2
}
