{
 "cells": [
  {
   "cell_type": "markdown",
   "metadata": {},
   "source": [
    "## programming functions\n",
    "- predefined funtions\n",
    "    - standard library functions\n",
    "        - the functions that come with python like jdk for java\n",
    "    - library (modules) functions \n",
    "        - preinstalled library\n",
    "            - for example \n",
    "                - os\n",
    "                - math\n",
    "                - random\n",
    "                - datetime \n",
    "        - *third party library*\n",
    "            - install with pip\n",
    "                - `pip install <package-name>`\n",
    "                - `pip show <package-name>`\n",
    "            - install with conda\n",
    "                - `conda install <repo> <package-name>`\n",
    "\n",
    "- **user defined function**\n",
    "    - functions with name\n",
    "        - functions without parameters and return value\n",
    "        - functions with return value but no parameter\n",
    "        - functions with parameter but no return value\n",
    "            - required parameter\n",
    "            - default parameter\n",
    "            - named parameter\n",
    "            - variable parameter\n",
    "            - keyword variable parameter\n",
    "        - funcitons with parameter and return value\n",
    "        - generators\n",
    "    - functions without name \n",
    "        - *lambda functions* (anonymous functions)\n",
    "\n"
   ]
  },
  {
   "cell_type": "code",
   "execution_count": 6,
   "metadata": {},
   "outputs": [],
   "source": [
    "import math"
   ]
  },
  {
   "cell_type": "code",
   "execution_count": 9,
   "metadata": {},
   "outputs": [
    {
     "name": "stdout",
     "output_type": "stream",
     "text": [
      "Help on built-in function listdir in module posix:\n",
      "\n",
      "listdir(path=None)\n",
      "    Return a list containing the names of the files in the directory.\n",
      "    \n",
      "    path can be specified as either str, bytes, or a path-like object.  If path is bytes,\n",
      "      the filenames returned will also be bytes; in all other circumstances\n",
      "      the filenames returned will be str.\n",
      "    If path is None, uses the path='.'.\n",
      "    On some platforms, path may also be specified as an open file descriptor;\\\n",
      "      the file descriptor must refer to a directory.\n",
      "      If this functionality is unavailable, using it raises NotImplementedError.\n",
      "    \n",
      "    The list is in arbitrary order.  It does not include the special\n",
      "    entries '.' and '..' even if they are present in the directory.\n",
      "\n"
     ]
    }
   ],
   "source": [
    "import os\n",
    "help(os.listdir)"
   ]
  },
  {
   "cell_type": "code",
   "execution_count": 4,
   "metadata": {},
   "outputs": [
    {
     "name": "stdout",
     "output_type": "stream",
     "text": [
      "the simple intrest is 180.00\n"
     ]
    }
   ],
   "source": [
    "def si(p, r, t):\n",
    "    ans = p * r * t /100\n",
    "    print(f'the simple intrest is {ans:.2f}')\n",
    "si(100, 30, 6)"
   ]
  },
  {
   "cell_type": "code",
   "execution_count": 26,
   "metadata": {},
   "outputs": [],
   "source": [
    "def prime(n):\n",
    "    a = int(n**(1/2))+1\n",
    "    for i in range(a,1,-1):\n",
    "        if n%i == 0:\n",
    "            print('not prime the number is divisible by ',i)\n",
    "            break\n",
    "    else:\n",
    "        print('prime')"
   ]
  },
  {
   "cell_type": "code",
   "execution_count": 27,
   "metadata": {},
   "outputs": [
    {
     "name": "stdout",
     "output_type": "stream",
     "text": [
      "not prime the number is divisible by  2\n"
     ]
    }
   ],
   "source": [
    "prime(8)"
   ]
  },
  {
   "cell_type": "code",
   "execution_count": null,
   "metadata": {},
   "outputs": [],
   "source": []
  }
 ],
 "metadata": {
  "kernelspec": {
   "display_name": "base",
   "language": "python",
   "name": "python3"
  },
  "language_info": {
   "codemirror_mode": {
    "name": "ipython",
    "version": 3
   },
   "file_extension": ".py",
   "mimetype": "text/x-python",
   "name": "python",
   "nbconvert_exporter": "python",
   "pygments_lexer": "ipython3",
   "version": "3.10.10"
  },
  "orig_nbformat": 4
 },
 "nbformat": 4,
 "nbformat_minor": 2
}
